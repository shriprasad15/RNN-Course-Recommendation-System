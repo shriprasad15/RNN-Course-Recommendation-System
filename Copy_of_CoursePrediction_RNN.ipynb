{
 "cells": [
  {
   "cell_type": "code",
   "execution_count": null,
   "metadata": {
    "ExecuteTime": {
     "end_time": "2024-06-25T06:02:26.886436Z",
     "start_time": "2024-06-25T06:02:10.861222Z"
    },
    "colab": {
     "base_uri": "https://localhost:8080/"
    },
    "id": "pANhj59qVOzq",
    "outputId": "592caa7c-74d3-4af4-cea1-832990d4c10f"
   },
   "outputs": [
    {
     "ename": "",
     "evalue": "",
     "output_type": "error",
     "traceback": [
      "\u001B[1;31mThe kernel failed to start due to the missing module 'prompt_toolkit.formatted_text'. Consider installing this module.\n",
      "\u001B[1;31mClick <a href='https://aka.ms/kernelFailuresMissingModule'>here</a> for more info."
     ]
    }
   ],
   "source": [
    "import numpy as np\n",
    "import pandas as pd\n",
    "import matplotlib.pyplot as plt\n",
    "# from google.colab import drive\n",
    "# drive.mount('/content/drive')"
   ]
  },
  {
   "cell_type": "code",
   "execution_count": 16,
   "metadata": {
    "id": "8hOsfyKPVU1M",
    "ExecuteTime": {
     "end_time": "2024-06-25T06:16:36.796306Z",
     "start_time": "2024-06-25T06:15:54.310915Z"
    }
   },
   "outputs": [],
   "source": [
    "df_term_details = pd.read_excel(\"/Users/shriprasad/Desktop/Data-Analyst/RP-Course Recom/New SH (Research) (1).xlsx\",sheet_name=0,header=1)\n",
    "df_course_details = pd.read_excel(\"/Users/shriprasad/Desktop/Data-Analyst/RP-Course Recom/New SH (Research) (1).xlsx\",sheet_name=1)"
   ]
  },
  {
   "cell_type": "code",
   "execution_count": 17,
   "outputs": [
    {
     "data": {
      "text/plain": "              encoded email         encoded smail            Status Country  \\\n0      12dfsojhfks100034084  21f1dhfjnojo10000001 NaN  TermStudents   india   \n1      12dfsojhfks100013034  21f1dhfjnojo10000002 NaN  TermStudents   india   \n2      12dfsojhfks100034136  21f1dhfjnojo10000003 NaN  TermStudents   india   \n3      12dfsojhfks100017426  21f1dhfjnojo10000004 NaN  TermStudents   india   \n4      12dfsojhfks100035751  21f1dhfjnojo10000005 NaN  TermStudents   india   \n...                     ...                   ...  ..           ...     ...   \n47567  12dfsojhfks100000244  NotSdhfjnojo10012293 NaN   JEEStudents       -   \n47568  12dfsojhfks100000146  NotSdhfjnojo10012293 NaN   JEEStudents       -   \n47569  12dfsojhfks100000129  NotSdhfjnojo10012293 NaN   JEEStudents       -   \n47570  12dfsojhfks100000099  NotSdhfjnojo10012293 NaN   JEEStudents       -   \n47571  12dfsojhfks100000007  NotSdhfjnojo10012293 NaN   JEEStudents       -   \n\n                State city  Foundation completed  Diploma completed  \\\n0           Rajasthan  NaN                     3                  0   \n1          Tamil-Nadu  NaN                     4                  0   \n2           Karnataka  NaN                     1                  0   \n3           Telangana  NaN                     7                  0   \n4      Andhra-Pradesh  NaN                     4                  0   \n...               ...  ...                   ...                ...   \n47567               -    -                     0                  0   \n47568               -    -                     0                  0   \n47569               -    -                     0                  0   \n47570               -    -                     0                  0   \n47571               -    -                     0                  0   \n\n       Degree completed  ...  DS CGPA  DP CGPA Diploma CGPA  Degree CGPA  \\\n0                     0  ...        -        -            -            -   \n1                     0  ...        -        -            -            -   \n2                     0  ...        -        -            -            -   \n3                     0  ...        -        -            -            -   \n4                     0  ...        -        -            -            -   \n...                 ...  ...      ...      ...          ...          ...   \n47567                 0  ...      NaN      NaN          NaN          NaN   \n47568                 0  ...      NaN      NaN          NaN          NaN   \n47569                 0  ...      NaN      NaN          NaN          NaN   \n47570                 0  ...      NaN      NaN          NaN          NaN   \n47571                 0  ...      NaN      NaN          NaN          NaN   \n\n      BSc completion  BS Completion Latest Registered term  \\\n0                NaN            NaN                    2.0   \n1                NaN            NaN                    3.0   \n2                NaN            NaN                    3.0   \n3                NaN            NaN                    9.0   \n4                NaN            NaN                    9.0   \n...              ...            ...                    ...   \n47567            NaN            NaN                    NaN   \n47568            NaN            NaN                    NaN   \n47569            NaN            NaN                    NaN   \n47570            NaN            NaN                    NaN   \n47571            NaN            NaN                    NaN   \n\n       Foundation Completion term New Student Status  Unnamed: 67  \n0                             NaN     FORCED_TO_QUIT          5.3  \n1                             NaN     FORCED_TO_QUIT          5.8  \n2                             NaN     FORCED_TO_QUIT            -  \n3                             NaN     FORCED_TO_QUIT            -  \n4                             NaN     FORCED_TO_QUIT            -  \n...                           ...                ...          ...  \n47567                         NaN         NotStarted            -  \n47568                         NaN         NotStarted            -  \n47569                         NaN         NotStarted            -  \n47570                         NaN         NotStarted            -  \n47571                         NaN         NotStarted            -  \n\n[47572 rows x 68 columns]",
      "text/html": "<div>\n<style scoped>\n    .dataframe tbody tr th:only-of-type {\n        vertical-align: middle;\n    }\n\n    .dataframe tbody tr th {\n        vertical-align: top;\n    }\n\n    .dataframe thead th {\n        text-align: right;\n    }\n</style>\n<table border=\"1\" class=\"dataframe\">\n  <thead>\n    <tr style=\"text-align: right;\">\n      <th></th>\n      <th>encoded email</th>\n      <th>encoded smail</th>\n      <th></th>\n      <th>Status</th>\n      <th>Country</th>\n      <th>State</th>\n      <th>city</th>\n      <th>Foundation completed</th>\n      <th>Diploma completed</th>\n      <th>Degree completed</th>\n      <th>...</th>\n      <th>DS CGPA</th>\n      <th>DP CGPA</th>\n      <th>Diploma CGPA</th>\n      <th>Degree CGPA</th>\n      <th>BSc completion</th>\n      <th>BS Completion</th>\n      <th>Latest Registered term</th>\n      <th>Foundation Completion term</th>\n      <th>New Student Status</th>\n      <th>Unnamed: 67</th>\n    </tr>\n  </thead>\n  <tbody>\n    <tr>\n      <th>0</th>\n      <td>12dfsojhfks100034084</td>\n      <td>21f1dhfjnojo10000001</td>\n      <td>NaN</td>\n      <td>TermStudents</td>\n      <td>india</td>\n      <td>Rajasthan</td>\n      <td>NaN</td>\n      <td>3</td>\n      <td>0</td>\n      <td>0</td>\n      <td>...</td>\n      <td>-</td>\n      <td>-</td>\n      <td>-</td>\n      <td>-</td>\n      <td>NaN</td>\n      <td>NaN</td>\n      <td>2.0</td>\n      <td>NaN</td>\n      <td>FORCED_TO_QUIT</td>\n      <td>5.3</td>\n    </tr>\n    <tr>\n      <th>1</th>\n      <td>12dfsojhfks100013034</td>\n      <td>21f1dhfjnojo10000002</td>\n      <td>NaN</td>\n      <td>TermStudents</td>\n      <td>india</td>\n      <td>Tamil-Nadu</td>\n      <td>NaN</td>\n      <td>4</td>\n      <td>0</td>\n      <td>0</td>\n      <td>...</td>\n      <td>-</td>\n      <td>-</td>\n      <td>-</td>\n      <td>-</td>\n      <td>NaN</td>\n      <td>NaN</td>\n      <td>3.0</td>\n      <td>NaN</td>\n      <td>FORCED_TO_QUIT</td>\n      <td>5.8</td>\n    </tr>\n    <tr>\n      <th>2</th>\n      <td>12dfsojhfks100034136</td>\n      <td>21f1dhfjnojo10000003</td>\n      <td>NaN</td>\n      <td>TermStudents</td>\n      <td>india</td>\n      <td>Karnataka</td>\n      <td>NaN</td>\n      <td>1</td>\n      <td>0</td>\n      <td>0</td>\n      <td>...</td>\n      <td>-</td>\n      <td>-</td>\n      <td>-</td>\n      <td>-</td>\n      <td>NaN</td>\n      <td>NaN</td>\n      <td>3.0</td>\n      <td>NaN</td>\n      <td>FORCED_TO_QUIT</td>\n      <td>-</td>\n    </tr>\n    <tr>\n      <th>3</th>\n      <td>12dfsojhfks100017426</td>\n      <td>21f1dhfjnojo10000004</td>\n      <td>NaN</td>\n      <td>TermStudents</td>\n      <td>india</td>\n      <td>Telangana</td>\n      <td>NaN</td>\n      <td>7</td>\n      <td>0</td>\n      <td>0</td>\n      <td>...</td>\n      <td>-</td>\n      <td>-</td>\n      <td>-</td>\n      <td>-</td>\n      <td>NaN</td>\n      <td>NaN</td>\n      <td>9.0</td>\n      <td>NaN</td>\n      <td>FORCED_TO_QUIT</td>\n      <td>-</td>\n    </tr>\n    <tr>\n      <th>4</th>\n      <td>12dfsojhfks100035751</td>\n      <td>21f1dhfjnojo10000005</td>\n      <td>NaN</td>\n      <td>TermStudents</td>\n      <td>india</td>\n      <td>Andhra-Pradesh</td>\n      <td>NaN</td>\n      <td>4</td>\n      <td>0</td>\n      <td>0</td>\n      <td>...</td>\n      <td>-</td>\n      <td>-</td>\n      <td>-</td>\n      <td>-</td>\n      <td>NaN</td>\n      <td>NaN</td>\n      <td>9.0</td>\n      <td>NaN</td>\n      <td>FORCED_TO_QUIT</td>\n      <td>-</td>\n    </tr>\n    <tr>\n      <th>...</th>\n      <td>...</td>\n      <td>...</td>\n      <td>...</td>\n      <td>...</td>\n      <td>...</td>\n      <td>...</td>\n      <td>...</td>\n      <td>...</td>\n      <td>...</td>\n      <td>...</td>\n      <td>...</td>\n      <td>...</td>\n      <td>...</td>\n      <td>...</td>\n      <td>...</td>\n      <td>...</td>\n      <td>...</td>\n      <td>...</td>\n      <td>...</td>\n      <td>...</td>\n      <td>...</td>\n    </tr>\n    <tr>\n      <th>47567</th>\n      <td>12dfsojhfks100000244</td>\n      <td>NotSdhfjnojo10012293</td>\n      <td>NaN</td>\n      <td>JEEStudents</td>\n      <td>-</td>\n      <td>-</td>\n      <td>-</td>\n      <td>0</td>\n      <td>0</td>\n      <td>0</td>\n      <td>...</td>\n      <td>NaN</td>\n      <td>NaN</td>\n      <td>NaN</td>\n      <td>NaN</td>\n      <td>NaN</td>\n      <td>NaN</td>\n      <td>NaN</td>\n      <td>NaN</td>\n      <td>NotStarted</td>\n      <td>-</td>\n    </tr>\n    <tr>\n      <th>47568</th>\n      <td>12dfsojhfks100000146</td>\n      <td>NotSdhfjnojo10012293</td>\n      <td>NaN</td>\n      <td>JEEStudents</td>\n      <td>-</td>\n      <td>-</td>\n      <td>-</td>\n      <td>0</td>\n      <td>0</td>\n      <td>0</td>\n      <td>...</td>\n      <td>NaN</td>\n      <td>NaN</td>\n      <td>NaN</td>\n      <td>NaN</td>\n      <td>NaN</td>\n      <td>NaN</td>\n      <td>NaN</td>\n      <td>NaN</td>\n      <td>NotStarted</td>\n      <td>-</td>\n    </tr>\n    <tr>\n      <th>47569</th>\n      <td>12dfsojhfks100000129</td>\n      <td>NotSdhfjnojo10012293</td>\n      <td>NaN</td>\n      <td>JEEStudents</td>\n      <td>-</td>\n      <td>-</td>\n      <td>-</td>\n      <td>0</td>\n      <td>0</td>\n      <td>0</td>\n      <td>...</td>\n      <td>NaN</td>\n      <td>NaN</td>\n      <td>NaN</td>\n      <td>NaN</td>\n      <td>NaN</td>\n      <td>NaN</td>\n      <td>NaN</td>\n      <td>NaN</td>\n      <td>NotStarted</td>\n      <td>-</td>\n    </tr>\n    <tr>\n      <th>47570</th>\n      <td>12dfsojhfks100000099</td>\n      <td>NotSdhfjnojo10012293</td>\n      <td>NaN</td>\n      <td>JEEStudents</td>\n      <td>-</td>\n      <td>-</td>\n      <td>-</td>\n      <td>0</td>\n      <td>0</td>\n      <td>0</td>\n      <td>...</td>\n      <td>NaN</td>\n      <td>NaN</td>\n      <td>NaN</td>\n      <td>NaN</td>\n      <td>NaN</td>\n      <td>NaN</td>\n      <td>NaN</td>\n      <td>NaN</td>\n      <td>NotStarted</td>\n      <td>-</td>\n    </tr>\n    <tr>\n      <th>47571</th>\n      <td>12dfsojhfks100000007</td>\n      <td>NotSdhfjnojo10012293</td>\n      <td>NaN</td>\n      <td>JEEStudents</td>\n      <td>-</td>\n      <td>-</td>\n      <td>-</td>\n      <td>0</td>\n      <td>0</td>\n      <td>0</td>\n      <td>...</td>\n      <td>NaN</td>\n      <td>NaN</td>\n      <td>NaN</td>\n      <td>NaN</td>\n      <td>NaN</td>\n      <td>NaN</td>\n      <td>NaN</td>\n      <td>NaN</td>\n      <td>NotStarted</td>\n      <td>-</td>\n    </tr>\n  </tbody>\n</table>\n<p>47572 rows × 68 columns</p>\n</div>"
     },
     "execution_count": 17,
     "metadata": {},
     "output_type": "execute_result"
    }
   ],
   "source": [
    "df_term_details"
   ],
   "metadata": {
    "collapsed": false,
    "ExecuteTime": {
     "end_time": "2024-06-25T06:16:39.538893Z",
     "start_time": "2024-06-25T06:16:39.477185Z"
    }
   }
  },
  {
   "cell_type": "code",
   "execution_count": 18,
   "metadata": {
    "id": "XcjBzZaWVZHd",
    "ExecuteTime": {
     "end_time": "2024-06-25T06:16:43.685806Z",
     "start_time": "2024-06-25T06:16:42.658390Z"
    }
   },
   "outputs": [
    {
     "name": "stderr",
     "output_type": "stream",
     "text": [
      "/var/folders/fd/y551gpn13f9d06bv3p080k7r0000gn/T/ipykernel_7073/3183936953.py:25: FutureWarning: Downcasting object dtype arrays on .fillna, .ffill, .bfill is deprecated and will change in a future version. Call result.infer_objects(copy=False) instead. To opt-in to the future behavior, set `pd.set_option('future.no_silent_downcasting', True)`\n",
      "  df_term_details.fillna(0)\n",
      "/var/folders/fd/y551gpn13f9d06bv3p080k7r0000gn/T/ipykernel_7073/3183936953.py:33: FutureWarning: Downcasting behavior in `replace` is deprecated and will be removed in a future version. To retain the old behavior, explicitly call `result.infer_objects(copy=False)`. To opt-in to the future behavior, set `pd.set_option('future.no_silent_downcasting', True)`\n",
      "  df_term_details['qual_cleared_term'] = df_term_details['qual_cleared_term'].replace(term_mapping)\n",
      "/var/folders/fd/y551gpn13f9d06bv3p080k7r0000gn/T/ipykernel_7073/3183936953.py:49: FutureWarning: Downcasting behavior in `replace` is deprecated and will be removed in a future version. To retain the old behavior, explicitly call `result.infer_objects(copy=False)`. To opt-in to the future behavior, set `pd.set_option('future.no_silent_downcasting', True)`\n",
      "  df['grade'] = df['grade'].replace(grade_mapping)\n"
     ]
    }
   ],
   "source": [
    "len(df_term_details['city'].unique())\n",
    "df_course_details.head()\n",
    "## Dropping Unwanted Columns\n",
    "cols_drop=[\"encoded smail\",\n",
    "           \"Current Status\",\"CurrentLevelAsOfTerm\",\n",
    "           \"CurrentLevel\",\"Diploma completed\",\n",
    "           \"Degree completed\",\"Theory Completed\",\n",
    "           \"Projects completed\",\"No Of Term Register\",\n",
    "           \"Term Status.1\",\"NOC Reg.1\",\n",
    "           \"Term Status.2\",\"NOC Reg.2\",\"Term Status.3\",\n",
    "           \"NOC Reg.3\",\"Term Status.4\",\"NOC Reg.4\",\n",
    "           \"Term Status.5\",\"NOC Reg.5\",\"Projects.1\",\n",
    "           \"Term Status.6\",\"NOC Reg.6\",\"Projects.2\",\n",
    "           \"Term Status.7\",\"NOC Reg.7\",\"Projects\",\n",
    "           \"Term Status.8\",\"NOC Reg.8\",\"Term Status\",\n",
    "           \"NOC Reg\",\"DPDiplomaCertCompletion\",\n",
    "           \"DSDiplomaCertCompletion\",\"LatestDiplomaCompletedTerm\",\n",
    "           \"DiplomaStatus\",\"StudentStatus\",\"IncomeLevel\",\n",
    "           \"LatestCGPA\",\"pwd\",\"DS CGPA\",\"DP CGPA\",\"Diploma CGPA\",\n",
    "           \"Degree CGPA\",\"BSc completion\",\"BS Completion\"]\n",
    "df_term_details = df_term_details.drop(cols_drop,axis=1)\n",
    "\n",
    "## Dropping all rows where students have not completed foundation\n",
    "df_term_details = df_term_details.dropna(subset=[\"FoundationalCertCompletion\"])\n",
    "df_term_details.fillna(0)\n",
    "df_course_details.drop(['encoded smail'],axis=1,inplace=True)\n",
    "\n",
    "## Mapping Each term with a numeric value for calculation foundation completion time\n",
    "term_mapping = {'F1-2021': 1, 'F1-2022': 4, 'F2-2021': 2, 'F2-2022': 5, 'F3-2021': 3, 'F3-2022': 6, 'F1-2023': 7,'F2-2023': 8,'F3-2023': 9}\n",
    "## Mapping each grade with its respective numberic quantity\n",
    "grade_mapping = {'S':10,'A':9,'B':8,'C':7,'D':6,'E':4,'U':0 , 'I':0, 'WA':0, 'WQ':0, 'I_OP':0,'I_BOTH':0, 'F':0, 'P':0}\n",
    "## Replace the Term with its numberic values for the Qualifier Cleared Term\n",
    "df_term_details['qual_cleared_term'] = df_term_details['qual_cleared_term'].replace(term_mapping)\n",
    "\n",
    "\n",
    "## Replace the Term with its numberic values for the Foundation completed Term\n",
    "df_term_details['FoundationalCertCompletion']= df_term_details['FoundationalCertCompletion'].replace(term_mapping)\n",
    "\n",
    "df_term_details['Foundation CGPA'] = df_term_details['Foundation CGPA'].astype(float)\n",
    "\n",
    "\n",
    "# Joining the Table Student Term details with Student Course Details\n",
    "# by merging on the encoded email key . By this we get the details of all the courses taken\n",
    "# by a student in a term with the grade and marks scored in the course.\n",
    "\n",
    "df = pd.merge(df_term_details,df_course_details,left_on='encoded email',right_on='encoded email',how='left')\n",
    "\n",
    "## Mapping Grade with its numeric quantity and selecting only those with courses with grade more that C\n",
    "df['grade'] = df['grade'].replace(grade_mapping)\n",
    "df = df[df['Foundation completed'] == 8]\n",
    "df = df[df['Foundation CGPA']>7]\n",
    "\n",
    "# Dropping the encoded email\n",
    "df.drop(['encoded email'],axis=1,inplace=True)\n",
    "\n",
    "# Replace Term with its numeric value\n",
    "df['term_code']=df['term_code'].replace(term_mapping)"
   ]
  },
  {
   "cell_type": "code",
   "execution_count": 19,
   "metadata": {
    "colab": {
     "base_uri": "https://localhost:8080/",
     "height": 261
    },
    "id": "B4oxk326JEYS",
    "outputId": "a5ecfa33-9462-446c-abf9-3458b4dc165a",
    "ExecuteTime": {
     "end_time": "2024-06-25T06:16:54.584755Z",
     "start_time": "2024-06-25T06:16:54.578540Z"
    }
   },
   "outputs": [
    {
     "data": {
      "text/plain": "              Status Country          State city  Foundation completed  \\\n33 NaN  TermStudents   india  Uttar-Pradesh  NaN                     8   \n34 NaN  TermStudents   india  Uttar-Pradesh  NaN                     8   \n35 NaN  TermStudents   india  Uttar-Pradesh  NaN                     8   \n36 NaN  TermStudents   india  Uttar-Pradesh  NaN                     8   \n37 NaN  TermStudents   india  Uttar-Pradesh  NaN                     8   \n\n    qual_cleared_term Term Status.9  NOC Reg.9 Term Status.10  ...  \\\n33                  1    Registered        1.0     Registered  ...   \n34                  1    Registered        1.0     Registered  ...   \n35                  1    Registered        1.0     Registered  ...   \n36                  1    Registered        1.0     Registered  ...   \n37                  1    Registered        1.0     Registered  ...   \n\n    Unnamed: 67 marks     test_code  term_code  order course_code grade  \\\n33            -  86.0  COURSE_SCORE          1      1      MA1001     9   \n34            -  79.0  COURSE_SCORE          2      2      HS1002     8   \n35            -  78.0  COURSE_SCORE          1      1      HS1001     8   \n36            -  71.0  COURSE_SCORE          1      1      CS1001     8   \n37            -  76.0  COURSE_SCORE          7      7      CS2004     8   \n\n    result    level             acc_id  \n33       P      NaN  5909480382398464_  \n34       P      NaN  5909480382398464_  \n35       P      NaN  5909480382398464_  \n36       P      NaN  5909480382398464_  \n37       P  DIPLOMA  5909480382398464_  \n\n[5 rows x 32 columns]",
      "text/html": "<div>\n<style scoped>\n    .dataframe tbody tr th:only-of-type {\n        vertical-align: middle;\n    }\n\n    .dataframe tbody tr th {\n        vertical-align: top;\n    }\n\n    .dataframe thead th {\n        text-align: right;\n    }\n</style>\n<table border=\"1\" class=\"dataframe\">\n  <thead>\n    <tr style=\"text-align: right;\">\n      <th></th>\n      <th></th>\n      <th>Status</th>\n      <th>Country</th>\n      <th>State</th>\n      <th>city</th>\n      <th>Foundation completed</th>\n      <th>qual_cleared_term</th>\n      <th>Term Status.9</th>\n      <th>NOC Reg.9</th>\n      <th>Term Status.10</th>\n      <th>...</th>\n      <th>Unnamed: 67</th>\n      <th>marks</th>\n      <th>test_code</th>\n      <th>term_code</th>\n      <th>order</th>\n      <th>course_code</th>\n      <th>grade</th>\n      <th>result</th>\n      <th>level</th>\n      <th>acc_id</th>\n    </tr>\n  </thead>\n  <tbody>\n    <tr>\n      <th>33</th>\n      <td>NaN</td>\n      <td>TermStudents</td>\n      <td>india</td>\n      <td>Uttar-Pradesh</td>\n      <td>NaN</td>\n      <td>8</td>\n      <td>1</td>\n      <td>Registered</td>\n      <td>1.0</td>\n      <td>Registered</td>\n      <td>...</td>\n      <td>-</td>\n      <td>86.0</td>\n      <td>COURSE_SCORE</td>\n      <td>1</td>\n      <td>1</td>\n      <td>MA1001</td>\n      <td>9</td>\n      <td>P</td>\n      <td>NaN</td>\n      <td>5909480382398464_</td>\n    </tr>\n    <tr>\n      <th>34</th>\n      <td>NaN</td>\n      <td>TermStudents</td>\n      <td>india</td>\n      <td>Uttar-Pradesh</td>\n      <td>NaN</td>\n      <td>8</td>\n      <td>1</td>\n      <td>Registered</td>\n      <td>1.0</td>\n      <td>Registered</td>\n      <td>...</td>\n      <td>-</td>\n      <td>79.0</td>\n      <td>COURSE_SCORE</td>\n      <td>2</td>\n      <td>2</td>\n      <td>HS1002</td>\n      <td>8</td>\n      <td>P</td>\n      <td>NaN</td>\n      <td>5909480382398464_</td>\n    </tr>\n    <tr>\n      <th>35</th>\n      <td>NaN</td>\n      <td>TermStudents</td>\n      <td>india</td>\n      <td>Uttar-Pradesh</td>\n      <td>NaN</td>\n      <td>8</td>\n      <td>1</td>\n      <td>Registered</td>\n      <td>1.0</td>\n      <td>Registered</td>\n      <td>...</td>\n      <td>-</td>\n      <td>78.0</td>\n      <td>COURSE_SCORE</td>\n      <td>1</td>\n      <td>1</td>\n      <td>HS1001</td>\n      <td>8</td>\n      <td>P</td>\n      <td>NaN</td>\n      <td>5909480382398464_</td>\n    </tr>\n    <tr>\n      <th>36</th>\n      <td>NaN</td>\n      <td>TermStudents</td>\n      <td>india</td>\n      <td>Uttar-Pradesh</td>\n      <td>NaN</td>\n      <td>8</td>\n      <td>1</td>\n      <td>Registered</td>\n      <td>1.0</td>\n      <td>Registered</td>\n      <td>...</td>\n      <td>-</td>\n      <td>71.0</td>\n      <td>COURSE_SCORE</td>\n      <td>1</td>\n      <td>1</td>\n      <td>CS1001</td>\n      <td>8</td>\n      <td>P</td>\n      <td>NaN</td>\n      <td>5909480382398464_</td>\n    </tr>\n    <tr>\n      <th>37</th>\n      <td>NaN</td>\n      <td>TermStudents</td>\n      <td>india</td>\n      <td>Uttar-Pradesh</td>\n      <td>NaN</td>\n      <td>8</td>\n      <td>1</td>\n      <td>Registered</td>\n      <td>1.0</td>\n      <td>Registered</td>\n      <td>...</td>\n      <td>-</td>\n      <td>76.0</td>\n      <td>COURSE_SCORE</td>\n      <td>7</td>\n      <td>7</td>\n      <td>CS2004</td>\n      <td>8</td>\n      <td>P</td>\n      <td>DIPLOMA</td>\n      <td>5909480382398464_</td>\n    </tr>\n  </tbody>\n</table>\n<p>5 rows × 32 columns</p>\n</div>"
     },
     "execution_count": 19,
     "metadata": {},
     "output_type": "execute_result"
    }
   ],
   "source": [
    "df.head()"
   ]
  },
  {
   "cell_type": "code",
   "execution_count": 23,
   "metadata": {
    "id": "_yXi9p2jZBM-",
    "ExecuteTime": {
     "end_time": "2024-06-25T06:18:41.775460Z",
     "start_time": "2024-06-25T06:18:41.740113Z"
    }
   },
   "outputs": [
    {
     "ename": "KeyError",
     "evalue": "\"['Country', 'State', 'city', 'qual_cleared_term', 'Foundation completed', 'FoundationalCertCompletion', 'Category', 'Qualifier Score', 'gender', 'Age', 'Foundation CGPA', 'Latest Registered term', 'marks'] not found in axis\"",
     "output_type": "error",
     "traceback": [
      "\u001B[0;31m---------------------------------------------------------------------------\u001B[0m",
      "\u001B[0;31mKeyError\u001B[0m                                  Traceback (most recent call last)",
      "Cell \u001B[0;32mIn[23], line 1\u001B[0m\n\u001B[0;32m----> 1\u001B[0m \u001B[43mdf\u001B[49m\u001B[38;5;241;43m.\u001B[39;49m\u001B[43mdrop\u001B[49m\u001B[43m(\u001B[49m\u001B[43m[\u001B[49m\u001B[38;5;124;43m'\u001B[39;49m\u001B[38;5;124;43mCountry\u001B[39;49m\u001B[38;5;124;43m'\u001B[39;49m\u001B[43m,\u001B[49m\u001B[38;5;124;43m'\u001B[39;49m\u001B[38;5;124;43mState\u001B[39;49m\u001B[38;5;124;43m'\u001B[39;49m\u001B[43m,\u001B[49m\u001B[38;5;124;43m'\u001B[39;49m\u001B[38;5;124;43mcity\u001B[39;49m\u001B[38;5;124;43m'\u001B[39;49m\u001B[43m,\u001B[49m\u001B[38;5;124;43m'\u001B[39;49m\u001B[38;5;124;43mqual_cleared_term\u001B[39;49m\u001B[38;5;124;43m'\u001B[39;49m\u001B[43m,\u001B[49m\u001B[38;5;124;43m\"\u001B[39;49m\u001B[38;5;124;43mFoundation completed\u001B[39;49m\u001B[38;5;124;43m\"\u001B[39;49m\u001B[43m,\u001B[49m\u001B[38;5;124;43m'\u001B[39;49m\u001B[38;5;124;43mFoundationalCertCompletion\u001B[39;49m\u001B[38;5;124;43m'\u001B[39;49m\u001B[43m,\u001B[49m\u001B[38;5;124;43m'\u001B[39;49m\u001B[38;5;124;43mCategory\u001B[39;49m\u001B[38;5;124;43m'\u001B[39;49m\u001B[43m,\u001B[49m\u001B[38;5;124;43m'\u001B[39;49m\u001B[38;5;124;43mQualifier Score\u001B[39;49m\u001B[38;5;124;43m'\u001B[39;49m\u001B[43m,\u001B[49m\u001B[38;5;124;43m'\u001B[39;49m\u001B[38;5;124;43mgender\u001B[39;49m\u001B[38;5;124;43m'\u001B[39;49m\u001B[43m,\u001B[49m\u001B[38;5;124;43m'\u001B[39;49m\u001B[38;5;124;43mAge\u001B[39;49m\u001B[38;5;124;43m'\u001B[39;49m\u001B[43m,\u001B[49m\n\u001B[1;32m      2\u001B[0m \u001B[43m         \u001B[49m\u001B[38;5;124;43m'\u001B[39;49m\u001B[38;5;124;43mFoundation CGPA\u001B[39;49m\u001B[38;5;124;43m'\u001B[39;49m\u001B[43m,\u001B[49m\u001B[38;5;124;43m'\u001B[39;49m\u001B[38;5;124;43mLatest Registered term\u001B[39;49m\u001B[38;5;124;43m'\u001B[39;49m\u001B[43m,\u001B[49m\u001B[38;5;124;43m'\u001B[39;49m\u001B[38;5;124;43mmarks\u001B[39;49m\u001B[38;5;124;43m'\u001B[39;49m\u001B[43m]\u001B[49m\u001B[43m,\u001B[49m\u001B[43maxis\u001B[49m\u001B[38;5;241;43m=\u001B[39;49m\u001B[38;5;241;43m1\u001B[39;49m\u001B[43m,\u001B[49m\u001B[43minplace\u001B[49m\u001B[38;5;241;43m=\u001B[39;49m\u001B[38;5;28;43;01mTrue\u001B[39;49;00m\u001B[43m)\u001B[49m\n",
      "File \u001B[0;32m~/Desktop/Data-Analyst/RP-Course Recom/env/lib/python3.11/site-packages/pandas/core/frame.py:5581\u001B[0m, in \u001B[0;36mDataFrame.drop\u001B[0;34m(self, labels, axis, index, columns, level, inplace, errors)\u001B[0m\n\u001B[1;32m   5433\u001B[0m \u001B[38;5;28;01mdef\u001B[39;00m \u001B[38;5;21mdrop\u001B[39m(\n\u001B[1;32m   5434\u001B[0m     \u001B[38;5;28mself\u001B[39m,\n\u001B[1;32m   5435\u001B[0m     labels: IndexLabel \u001B[38;5;241m|\u001B[39m \u001B[38;5;28;01mNone\u001B[39;00m \u001B[38;5;241m=\u001B[39m \u001B[38;5;28;01mNone\u001B[39;00m,\n\u001B[0;32m   (...)\u001B[0m\n\u001B[1;32m   5442\u001B[0m     errors: IgnoreRaise \u001B[38;5;241m=\u001B[39m \u001B[38;5;124m\"\u001B[39m\u001B[38;5;124mraise\u001B[39m\u001B[38;5;124m\"\u001B[39m,\n\u001B[1;32m   5443\u001B[0m ) \u001B[38;5;241m-\u001B[39m\u001B[38;5;241m>\u001B[39m DataFrame \u001B[38;5;241m|\u001B[39m \u001B[38;5;28;01mNone\u001B[39;00m:\n\u001B[1;32m   5444\u001B[0m \u001B[38;5;250m    \u001B[39m\u001B[38;5;124;03m\"\"\"\u001B[39;00m\n\u001B[1;32m   5445\u001B[0m \u001B[38;5;124;03m    Drop specified labels from rows or columns.\u001B[39;00m\n\u001B[1;32m   5446\u001B[0m \n\u001B[0;32m   (...)\u001B[0m\n\u001B[1;32m   5579\u001B[0m \u001B[38;5;124;03m            weight  1.0     0.8\u001B[39;00m\n\u001B[1;32m   5580\u001B[0m \u001B[38;5;124;03m    \"\"\"\u001B[39;00m\n\u001B[0;32m-> 5581\u001B[0m     \u001B[38;5;28;01mreturn\u001B[39;00m \u001B[38;5;28;43msuper\u001B[39;49m\u001B[43m(\u001B[49m\u001B[43m)\u001B[49m\u001B[38;5;241;43m.\u001B[39;49m\u001B[43mdrop\u001B[49m\u001B[43m(\u001B[49m\n\u001B[1;32m   5582\u001B[0m \u001B[43m        \u001B[49m\u001B[43mlabels\u001B[49m\u001B[38;5;241;43m=\u001B[39;49m\u001B[43mlabels\u001B[49m\u001B[43m,\u001B[49m\n\u001B[1;32m   5583\u001B[0m \u001B[43m        \u001B[49m\u001B[43maxis\u001B[49m\u001B[38;5;241;43m=\u001B[39;49m\u001B[43maxis\u001B[49m\u001B[43m,\u001B[49m\n\u001B[1;32m   5584\u001B[0m \u001B[43m        \u001B[49m\u001B[43mindex\u001B[49m\u001B[38;5;241;43m=\u001B[39;49m\u001B[43mindex\u001B[49m\u001B[43m,\u001B[49m\n\u001B[1;32m   5585\u001B[0m \u001B[43m        \u001B[49m\u001B[43mcolumns\u001B[49m\u001B[38;5;241;43m=\u001B[39;49m\u001B[43mcolumns\u001B[49m\u001B[43m,\u001B[49m\n\u001B[1;32m   5586\u001B[0m \u001B[43m        \u001B[49m\u001B[43mlevel\u001B[49m\u001B[38;5;241;43m=\u001B[39;49m\u001B[43mlevel\u001B[49m\u001B[43m,\u001B[49m\n\u001B[1;32m   5587\u001B[0m \u001B[43m        \u001B[49m\u001B[43minplace\u001B[49m\u001B[38;5;241;43m=\u001B[39;49m\u001B[43minplace\u001B[49m\u001B[43m,\u001B[49m\n\u001B[1;32m   5588\u001B[0m \u001B[43m        \u001B[49m\u001B[43merrors\u001B[49m\u001B[38;5;241;43m=\u001B[39;49m\u001B[43merrors\u001B[49m\u001B[43m,\u001B[49m\n\u001B[1;32m   5589\u001B[0m \u001B[43m    \u001B[49m\u001B[43m)\u001B[49m\n",
      "File \u001B[0;32m~/Desktop/Data-Analyst/RP-Course Recom/env/lib/python3.11/site-packages/pandas/core/generic.py:4788\u001B[0m, in \u001B[0;36mNDFrame.drop\u001B[0;34m(self, labels, axis, index, columns, level, inplace, errors)\u001B[0m\n\u001B[1;32m   4786\u001B[0m \u001B[38;5;28;01mfor\u001B[39;00m axis, labels \u001B[38;5;129;01min\u001B[39;00m axes\u001B[38;5;241m.\u001B[39mitems():\n\u001B[1;32m   4787\u001B[0m     \u001B[38;5;28;01mif\u001B[39;00m labels \u001B[38;5;129;01mis\u001B[39;00m \u001B[38;5;129;01mnot\u001B[39;00m \u001B[38;5;28;01mNone\u001B[39;00m:\n\u001B[0;32m-> 4788\u001B[0m         obj \u001B[38;5;241m=\u001B[39m \u001B[43mobj\u001B[49m\u001B[38;5;241;43m.\u001B[39;49m\u001B[43m_drop_axis\u001B[49m\u001B[43m(\u001B[49m\u001B[43mlabels\u001B[49m\u001B[43m,\u001B[49m\u001B[43m \u001B[49m\u001B[43maxis\u001B[49m\u001B[43m,\u001B[49m\u001B[43m \u001B[49m\u001B[43mlevel\u001B[49m\u001B[38;5;241;43m=\u001B[39;49m\u001B[43mlevel\u001B[49m\u001B[43m,\u001B[49m\u001B[43m \u001B[49m\u001B[43merrors\u001B[49m\u001B[38;5;241;43m=\u001B[39;49m\u001B[43merrors\u001B[49m\u001B[43m)\u001B[49m\n\u001B[1;32m   4790\u001B[0m \u001B[38;5;28;01mif\u001B[39;00m inplace:\n\u001B[1;32m   4791\u001B[0m     \u001B[38;5;28mself\u001B[39m\u001B[38;5;241m.\u001B[39m_update_inplace(obj)\n",
      "File \u001B[0;32m~/Desktop/Data-Analyst/RP-Course Recom/env/lib/python3.11/site-packages/pandas/core/generic.py:4830\u001B[0m, in \u001B[0;36mNDFrame._drop_axis\u001B[0;34m(self, labels, axis, level, errors, only_slice)\u001B[0m\n\u001B[1;32m   4828\u001B[0m         new_axis \u001B[38;5;241m=\u001B[39m axis\u001B[38;5;241m.\u001B[39mdrop(labels, level\u001B[38;5;241m=\u001B[39mlevel, errors\u001B[38;5;241m=\u001B[39merrors)\n\u001B[1;32m   4829\u001B[0m     \u001B[38;5;28;01melse\u001B[39;00m:\n\u001B[0;32m-> 4830\u001B[0m         new_axis \u001B[38;5;241m=\u001B[39m \u001B[43maxis\u001B[49m\u001B[38;5;241;43m.\u001B[39;49m\u001B[43mdrop\u001B[49m\u001B[43m(\u001B[49m\u001B[43mlabels\u001B[49m\u001B[43m,\u001B[49m\u001B[43m \u001B[49m\u001B[43merrors\u001B[49m\u001B[38;5;241;43m=\u001B[39;49m\u001B[43merrors\u001B[49m\u001B[43m)\u001B[49m\n\u001B[1;32m   4831\u001B[0m     indexer \u001B[38;5;241m=\u001B[39m axis\u001B[38;5;241m.\u001B[39mget_indexer(new_axis)\n\u001B[1;32m   4833\u001B[0m \u001B[38;5;66;03m# Case for non-unique axis\u001B[39;00m\n\u001B[1;32m   4834\u001B[0m \u001B[38;5;28;01melse\u001B[39;00m:\n",
      "File \u001B[0;32m~/Desktop/Data-Analyst/RP-Course Recom/env/lib/python3.11/site-packages/pandas/core/indexes/base.py:7070\u001B[0m, in \u001B[0;36mIndex.drop\u001B[0;34m(self, labels, errors)\u001B[0m\n\u001B[1;32m   7068\u001B[0m \u001B[38;5;28;01mif\u001B[39;00m mask\u001B[38;5;241m.\u001B[39many():\n\u001B[1;32m   7069\u001B[0m     \u001B[38;5;28;01mif\u001B[39;00m errors \u001B[38;5;241m!=\u001B[39m \u001B[38;5;124m\"\u001B[39m\u001B[38;5;124mignore\u001B[39m\u001B[38;5;124m\"\u001B[39m:\n\u001B[0;32m-> 7070\u001B[0m         \u001B[38;5;28;01mraise\u001B[39;00m \u001B[38;5;167;01mKeyError\u001B[39;00m(\u001B[38;5;124mf\u001B[39m\u001B[38;5;124m\"\u001B[39m\u001B[38;5;132;01m{\u001B[39;00mlabels[mask]\u001B[38;5;241m.\u001B[39mtolist()\u001B[38;5;132;01m}\u001B[39;00m\u001B[38;5;124m not found in axis\u001B[39m\u001B[38;5;124m\"\u001B[39m)\n\u001B[1;32m   7071\u001B[0m     indexer \u001B[38;5;241m=\u001B[39m indexer[\u001B[38;5;241m~\u001B[39mmask]\n\u001B[1;32m   7072\u001B[0m \u001B[38;5;28;01mreturn\u001B[39;00m \u001B[38;5;28mself\u001B[39m\u001B[38;5;241m.\u001B[39mdelete(indexer)\n",
      "\u001B[0;31mKeyError\u001B[0m: \"['Country', 'State', 'city', 'qual_cleared_term', 'Foundation completed', 'FoundationalCertCompletion', 'Category', 'Qualifier Score', 'gender', 'Age', 'Foundation CGPA', 'Latest Registered term', 'marks'] not found in axis\""
     ]
    }
   ],
   "source": [
    "df.drop(['Country','State','city','qual_cleared_term',\"Foundation completed\",'FoundationalCertCompletion','Category','Qualifier Score','gender','Age',\n",
    "         'Foundation CGPA','Latest Registered term','marks'],axis=1,inplace=True)"
   ]
  },
  {
   "cell_type": "code",
   "execution_count": 24,
   "outputs": [
    {
     "data": {
      "text/plain": "                       Status Term Status.9  NOC Reg.9 Term Status.10  \\\n33     NaN       TermStudents    Registered        1.0     Registered   \n34     NaN       TermStudents    Registered        1.0     Registered   \n35     NaN       TermStudents    Registered        1.0     Registered   \n36     NaN       TermStudents    Registered        1.0     Registered   \n37     NaN       TermStudents    Registered        1.0     Registered   \n...     ..                ...           ...        ...            ...   \n204130 NaN  QualifiedStudents    Registered        4.0     Registered   \n204131 NaN  QualifiedStudents    Registered        4.0     Registered   \n204132 NaN  QualifiedStudents    Registered        4.0     Registered   \n204133 NaN  QualifiedStudents    Registered        4.0     Registered   \n204134 NaN  QualifiedStudents    Registered        4.0     Registered   \n\n        NOC Reg.10   .1                  DOB  Foundation Completion term  \\\n33               3    3  2002-07-07 00:00:00                         4.0   \n34               3    3  2002-07-07 00:00:00                         4.0   \n35               3    3  2002-07-07 00:00:00                         4.0   \n36               3    3  2002-07-07 00:00:00                         4.0   \n37               3    3  2002-07-07 00:00:00                         4.0   \n...            ...  ...                  ...                         ...   \n204130           4    1           25-12-2005                        10.0   \n204131           4    1           25-12-2005                        10.0   \n204132           4    1           25-12-2005                        10.0   \n204133           4    1           25-12-2005                        10.0   \n204134           4    1           25-12-2005                        10.0   \n\n       New Student Status Unnamed: 67     test_code term_code  order  \\\n33         ACTIVE_STUDENT           -  COURSE_SCORE         1      1   \n34         ACTIVE_STUDENT           -  COURSE_SCORE         2      2   \n35         ACTIVE_STUDENT           -  COURSE_SCORE         1      1   \n36         ACTIVE_STUDENT           -  COURSE_SCORE         1      1   \n37         ACTIVE_STUDENT           -  COURSE_SCORE         7      7   \n...                   ...         ...           ...       ...    ...   \n204130     ACTIVE_STUDENT           -  COURSE_SCORE         9      9   \n204131     ACTIVE_STUDENT           -  COURSE_SCORE         9      9   \n204132     ACTIVE_STUDENT           -  COURSE_SCORE         9      9   \n204133     ACTIVE_STUDENT           -  COURSE_SCORE   F1-2024     10   \n204134     ACTIVE_STUDENT           -  COURSE_SCORE   F1-2024     10   \n\n       course_code  grade result       level             acc_id  \n33          MA1001      9      P         NaN  5909480382398464_  \n34          HS1002      8      P         NaN  5909480382398464_  \n35          HS1001      8      P         NaN  5909480382398464_  \n36          CS1001      8      P         NaN  5909480382398464_  \n37          CS2004      8      P     DIPLOMA  5909480382398464_  \n...            ...    ...    ...         ...                ...  \n204130      MA1001      9      P  FOUNDATION  5172280774623232_  \n204131      HS1001      9      P  FOUNDATION  5172280774623232_  \n204132      MA1002      8      P  FOUNDATION  5172280774623232_  \n204133      MA1003      7      P  FOUNDATION  5172280774623232_  \n204134      CS1002     10      P  FOUNDATION  5172280774623232_  \n\n[134155 rows x 19 columns]",
      "text/html": "<div>\n<style scoped>\n    .dataframe tbody tr th:only-of-type {\n        vertical-align: middle;\n    }\n\n    .dataframe tbody tr th {\n        vertical-align: top;\n    }\n\n    .dataframe thead th {\n        text-align: right;\n    }\n</style>\n<table border=\"1\" class=\"dataframe\">\n  <thead>\n    <tr style=\"text-align: right;\">\n      <th></th>\n      <th></th>\n      <th>Status</th>\n      <th>Term Status.9</th>\n      <th>NOC Reg.9</th>\n      <th>Term Status.10</th>\n      <th>NOC Reg.10</th>\n      <th>.1</th>\n      <th>DOB</th>\n      <th>Foundation Completion term</th>\n      <th>New Student Status</th>\n      <th>Unnamed: 67</th>\n      <th>test_code</th>\n      <th>term_code</th>\n      <th>order</th>\n      <th>course_code</th>\n      <th>grade</th>\n      <th>result</th>\n      <th>level</th>\n      <th>acc_id</th>\n    </tr>\n  </thead>\n  <tbody>\n    <tr>\n      <th>33</th>\n      <td>NaN</td>\n      <td>TermStudents</td>\n      <td>Registered</td>\n      <td>1.0</td>\n      <td>Registered</td>\n      <td>3</td>\n      <td>3</td>\n      <td>2002-07-07 00:00:00</td>\n      <td>4.0</td>\n      <td>ACTIVE_STUDENT</td>\n      <td>-</td>\n      <td>COURSE_SCORE</td>\n      <td>1</td>\n      <td>1</td>\n      <td>MA1001</td>\n      <td>9</td>\n      <td>P</td>\n      <td>NaN</td>\n      <td>5909480382398464_</td>\n    </tr>\n    <tr>\n      <th>34</th>\n      <td>NaN</td>\n      <td>TermStudents</td>\n      <td>Registered</td>\n      <td>1.0</td>\n      <td>Registered</td>\n      <td>3</td>\n      <td>3</td>\n      <td>2002-07-07 00:00:00</td>\n      <td>4.0</td>\n      <td>ACTIVE_STUDENT</td>\n      <td>-</td>\n      <td>COURSE_SCORE</td>\n      <td>2</td>\n      <td>2</td>\n      <td>HS1002</td>\n      <td>8</td>\n      <td>P</td>\n      <td>NaN</td>\n      <td>5909480382398464_</td>\n    </tr>\n    <tr>\n      <th>35</th>\n      <td>NaN</td>\n      <td>TermStudents</td>\n      <td>Registered</td>\n      <td>1.0</td>\n      <td>Registered</td>\n      <td>3</td>\n      <td>3</td>\n      <td>2002-07-07 00:00:00</td>\n      <td>4.0</td>\n      <td>ACTIVE_STUDENT</td>\n      <td>-</td>\n      <td>COURSE_SCORE</td>\n      <td>1</td>\n      <td>1</td>\n      <td>HS1001</td>\n      <td>8</td>\n      <td>P</td>\n      <td>NaN</td>\n      <td>5909480382398464_</td>\n    </tr>\n    <tr>\n      <th>36</th>\n      <td>NaN</td>\n      <td>TermStudents</td>\n      <td>Registered</td>\n      <td>1.0</td>\n      <td>Registered</td>\n      <td>3</td>\n      <td>3</td>\n      <td>2002-07-07 00:00:00</td>\n      <td>4.0</td>\n      <td>ACTIVE_STUDENT</td>\n      <td>-</td>\n      <td>COURSE_SCORE</td>\n      <td>1</td>\n      <td>1</td>\n      <td>CS1001</td>\n      <td>8</td>\n      <td>P</td>\n      <td>NaN</td>\n      <td>5909480382398464_</td>\n    </tr>\n    <tr>\n      <th>37</th>\n      <td>NaN</td>\n      <td>TermStudents</td>\n      <td>Registered</td>\n      <td>1.0</td>\n      <td>Registered</td>\n      <td>3</td>\n      <td>3</td>\n      <td>2002-07-07 00:00:00</td>\n      <td>4.0</td>\n      <td>ACTIVE_STUDENT</td>\n      <td>-</td>\n      <td>COURSE_SCORE</td>\n      <td>7</td>\n      <td>7</td>\n      <td>CS2004</td>\n      <td>8</td>\n      <td>P</td>\n      <td>DIPLOMA</td>\n      <td>5909480382398464_</td>\n    </tr>\n    <tr>\n      <th>...</th>\n      <td>...</td>\n      <td>...</td>\n      <td>...</td>\n      <td>...</td>\n      <td>...</td>\n      <td>...</td>\n      <td>...</td>\n      <td>...</td>\n      <td>...</td>\n      <td>...</td>\n      <td>...</td>\n      <td>...</td>\n      <td>...</td>\n      <td>...</td>\n      <td>...</td>\n      <td>...</td>\n      <td>...</td>\n      <td>...</td>\n      <td>...</td>\n    </tr>\n    <tr>\n      <th>204130</th>\n      <td>NaN</td>\n      <td>QualifiedStudents</td>\n      <td>Registered</td>\n      <td>4.0</td>\n      <td>Registered</td>\n      <td>4</td>\n      <td>1</td>\n      <td>25-12-2005</td>\n      <td>10.0</td>\n      <td>ACTIVE_STUDENT</td>\n      <td>-</td>\n      <td>COURSE_SCORE</td>\n      <td>9</td>\n      <td>9</td>\n      <td>MA1001</td>\n      <td>9</td>\n      <td>P</td>\n      <td>FOUNDATION</td>\n      <td>5172280774623232_</td>\n    </tr>\n    <tr>\n      <th>204131</th>\n      <td>NaN</td>\n      <td>QualifiedStudents</td>\n      <td>Registered</td>\n      <td>4.0</td>\n      <td>Registered</td>\n      <td>4</td>\n      <td>1</td>\n      <td>25-12-2005</td>\n      <td>10.0</td>\n      <td>ACTIVE_STUDENT</td>\n      <td>-</td>\n      <td>COURSE_SCORE</td>\n      <td>9</td>\n      <td>9</td>\n      <td>HS1001</td>\n      <td>9</td>\n      <td>P</td>\n      <td>FOUNDATION</td>\n      <td>5172280774623232_</td>\n    </tr>\n    <tr>\n      <th>204132</th>\n      <td>NaN</td>\n      <td>QualifiedStudents</td>\n      <td>Registered</td>\n      <td>4.0</td>\n      <td>Registered</td>\n      <td>4</td>\n      <td>1</td>\n      <td>25-12-2005</td>\n      <td>10.0</td>\n      <td>ACTIVE_STUDENT</td>\n      <td>-</td>\n      <td>COURSE_SCORE</td>\n      <td>9</td>\n      <td>9</td>\n      <td>MA1002</td>\n      <td>8</td>\n      <td>P</td>\n      <td>FOUNDATION</td>\n      <td>5172280774623232_</td>\n    </tr>\n    <tr>\n      <th>204133</th>\n      <td>NaN</td>\n      <td>QualifiedStudents</td>\n      <td>Registered</td>\n      <td>4.0</td>\n      <td>Registered</td>\n      <td>4</td>\n      <td>1</td>\n      <td>25-12-2005</td>\n      <td>10.0</td>\n      <td>ACTIVE_STUDENT</td>\n      <td>-</td>\n      <td>COURSE_SCORE</td>\n      <td>F1-2024</td>\n      <td>10</td>\n      <td>MA1003</td>\n      <td>7</td>\n      <td>P</td>\n      <td>FOUNDATION</td>\n      <td>5172280774623232_</td>\n    </tr>\n    <tr>\n      <th>204134</th>\n      <td>NaN</td>\n      <td>QualifiedStudents</td>\n      <td>Registered</td>\n      <td>4.0</td>\n      <td>Registered</td>\n      <td>4</td>\n      <td>1</td>\n      <td>25-12-2005</td>\n      <td>10.0</td>\n      <td>ACTIVE_STUDENT</td>\n      <td>-</td>\n      <td>COURSE_SCORE</td>\n      <td>F1-2024</td>\n      <td>10</td>\n      <td>CS1002</td>\n      <td>10</td>\n      <td>P</td>\n      <td>FOUNDATION</td>\n      <td>5172280774623232_</td>\n    </tr>\n  </tbody>\n</table>\n<p>134155 rows × 19 columns</p>\n</div>"
     },
     "execution_count": 24,
     "metadata": {},
     "output_type": "execute_result"
    }
   ],
   "source": [
    "df"
   ],
   "metadata": {
    "collapsed": false,
    "ExecuteTime": {
     "end_time": "2024-06-25T06:18:52.860616Z",
     "start_time": "2024-06-25T06:18:52.856139Z"
    }
   }
  },
  {
   "cell_type": "code",
   "execution_count": 26,
   "outputs": [],
   "source": [
    "df.to_csv('/Users/shriprasad/Desktop/Data-Analyst/RP-Course Recom/data.csv')"
   ],
   "metadata": {
    "collapsed": false,
    "ExecuteTime": {
     "end_time": "2024-06-25T06:22:13.264138Z",
     "start_time": "2024-06-25T06:22:12.265874Z"
    }
   }
  },
  {
   "cell_type": "code",
   "execution_count": 22,
   "metadata": {
    "id": "KO1jlZWpaZpC",
    "ExecuteTime": {
     "end_time": "2024-06-25T06:17:54.280743Z",
     "start_time": "2024-06-25T06:17:54.116413Z"
    }
   },
   "outputs": [
    {
     "ename": "KeyError",
     "evalue": "'encoded email'",
     "output_type": "error",
     "traceback": [
      "\u001B[0;31m---------------------------------------------------------------------------\u001B[0m",
      "\u001B[0;31mKeyError\u001B[0m                                  Traceback (most recent call last)",
      "Cell \u001B[0;32mIn[22], line 1\u001B[0m\n\u001B[0;32m----> 1\u001B[0m pivot_df \u001B[38;5;241m=\u001B[39m \u001B[43mdf\u001B[49m\u001B[38;5;241;43m.\u001B[39;49m\u001B[43mpivot_table\u001B[49m\u001B[43m(\u001B[49m\u001B[43mindex\u001B[49m\u001B[38;5;241;43m=\u001B[39;49m\u001B[38;5;124;43m'\u001B[39;49m\u001B[38;5;124;43mencoded email\u001B[39;49m\u001B[38;5;124;43m'\u001B[39;49m\u001B[43m,\u001B[49m\u001B[43m \u001B[49m\u001B[43mcolumns\u001B[49m\u001B[38;5;241;43m=\u001B[39;49m\u001B[38;5;124;43m'\u001B[39;49m\u001B[38;5;124;43mterm_code\u001B[39;49m\u001B[38;5;124;43m'\u001B[39;49m\u001B[43m,\u001B[49m\u001B[43m \u001B[49m\u001B[43mvalues\u001B[49m\u001B[38;5;241;43m=\u001B[39;49m\u001B[43m[\u001B[49m\u001B[38;5;124;43m'\u001B[39;49m\u001B[38;5;124;43mcourse_code\u001B[39;49m\u001B[38;5;124;43m'\u001B[39;49m\u001B[43m,\u001B[49m\u001B[43m \u001B[49m\u001B[38;5;124;43m'\u001B[39;49m\u001B[38;5;124;43mgrade\u001B[39;49m\u001B[38;5;124;43m'\u001B[39;49m\u001B[43m]\u001B[49m\u001B[43m,\u001B[49m\u001B[43m \u001B[49m\u001B[43maggfunc\u001B[49m\u001B[38;5;241;43m=\u001B[39;49m\u001B[38;5;28;43;01mlambda\u001B[39;49;00m\u001B[43m \u001B[49m\u001B[43mx\u001B[49m\u001B[43m:\u001B[49m\u001B[43m \u001B[49m\u001B[38;5;124;43m'\u001B[39;49m\u001B[38;5;124;43m \u001B[39;49m\u001B[38;5;124;43m'\u001B[39;49m\u001B[38;5;241;43m.\u001B[39;49m\u001B[43mjoin\u001B[49m\u001B[43m(\u001B[49m\u001B[38;5;28;43mstr\u001B[39;49m\u001B[43m(\u001B[49m\u001B[43mv\u001B[49m\u001B[43m)\u001B[49m\u001B[43m \u001B[49m\u001B[38;5;28;43;01mfor\u001B[39;49;00m\u001B[43m \u001B[49m\u001B[43mv\u001B[49m\u001B[43m \u001B[49m\u001B[38;5;129;43;01min\u001B[39;49;00m\u001B[43m \u001B[49m\u001B[43mx\u001B[49m\u001B[43m)\u001B[49m\u001B[43m)\u001B[49m\n",
      "File \u001B[0;32m~/Desktop/Data-Analyst/RP-Course Recom/env/lib/python3.11/site-packages/pandas/core/frame.py:9509\u001B[0m, in \u001B[0;36mDataFrame.pivot_table\u001B[0;34m(self, values, index, columns, aggfunc, fill_value, margins, dropna, margins_name, observed, sort)\u001B[0m\n\u001B[1;32m   9492\u001B[0m \u001B[38;5;129m@Substitution\u001B[39m(\u001B[38;5;124m\"\u001B[39m\u001B[38;5;124m\"\u001B[39m)\n\u001B[1;32m   9493\u001B[0m \u001B[38;5;129m@Appender\u001B[39m(_shared_docs[\u001B[38;5;124m\"\u001B[39m\u001B[38;5;124mpivot_table\u001B[39m\u001B[38;5;124m\"\u001B[39m])\n\u001B[1;32m   9494\u001B[0m \u001B[38;5;28;01mdef\u001B[39;00m \u001B[38;5;21mpivot_table\u001B[39m(\n\u001B[0;32m   (...)\u001B[0m\n\u001B[1;32m   9505\u001B[0m     sort: \u001B[38;5;28mbool\u001B[39m \u001B[38;5;241m=\u001B[39m \u001B[38;5;28;01mTrue\u001B[39;00m,\n\u001B[1;32m   9506\u001B[0m ) \u001B[38;5;241m-\u001B[39m\u001B[38;5;241m>\u001B[39m DataFrame:\n\u001B[1;32m   9507\u001B[0m     \u001B[38;5;28;01mfrom\u001B[39;00m \u001B[38;5;21;01mpandas\u001B[39;00m\u001B[38;5;21;01m.\u001B[39;00m\u001B[38;5;21;01mcore\u001B[39;00m\u001B[38;5;21;01m.\u001B[39;00m\u001B[38;5;21;01mreshape\u001B[39;00m\u001B[38;5;21;01m.\u001B[39;00m\u001B[38;5;21;01mpivot\u001B[39;00m \u001B[38;5;28;01mimport\u001B[39;00m pivot_table\n\u001B[0;32m-> 9509\u001B[0m     \u001B[38;5;28;01mreturn\u001B[39;00m \u001B[43mpivot_table\u001B[49m\u001B[43m(\u001B[49m\n\u001B[1;32m   9510\u001B[0m \u001B[43m        \u001B[49m\u001B[38;5;28;43mself\u001B[39;49m\u001B[43m,\u001B[49m\n\u001B[1;32m   9511\u001B[0m \u001B[43m        \u001B[49m\u001B[43mvalues\u001B[49m\u001B[38;5;241;43m=\u001B[39;49m\u001B[43mvalues\u001B[49m\u001B[43m,\u001B[49m\n\u001B[1;32m   9512\u001B[0m \u001B[43m        \u001B[49m\u001B[43mindex\u001B[49m\u001B[38;5;241;43m=\u001B[39;49m\u001B[43mindex\u001B[49m\u001B[43m,\u001B[49m\n\u001B[1;32m   9513\u001B[0m \u001B[43m        \u001B[49m\u001B[43mcolumns\u001B[49m\u001B[38;5;241;43m=\u001B[39;49m\u001B[43mcolumns\u001B[49m\u001B[43m,\u001B[49m\n\u001B[1;32m   9514\u001B[0m \u001B[43m        \u001B[49m\u001B[43maggfunc\u001B[49m\u001B[38;5;241;43m=\u001B[39;49m\u001B[43maggfunc\u001B[49m\u001B[43m,\u001B[49m\n\u001B[1;32m   9515\u001B[0m \u001B[43m        \u001B[49m\u001B[43mfill_value\u001B[49m\u001B[38;5;241;43m=\u001B[39;49m\u001B[43mfill_value\u001B[49m\u001B[43m,\u001B[49m\n\u001B[1;32m   9516\u001B[0m \u001B[43m        \u001B[49m\u001B[43mmargins\u001B[49m\u001B[38;5;241;43m=\u001B[39;49m\u001B[43mmargins\u001B[49m\u001B[43m,\u001B[49m\n\u001B[1;32m   9517\u001B[0m \u001B[43m        \u001B[49m\u001B[43mdropna\u001B[49m\u001B[38;5;241;43m=\u001B[39;49m\u001B[43mdropna\u001B[49m\u001B[43m,\u001B[49m\n\u001B[1;32m   9518\u001B[0m \u001B[43m        \u001B[49m\u001B[43mmargins_name\u001B[49m\u001B[38;5;241;43m=\u001B[39;49m\u001B[43mmargins_name\u001B[49m\u001B[43m,\u001B[49m\n\u001B[1;32m   9519\u001B[0m \u001B[43m        \u001B[49m\u001B[43mobserved\u001B[49m\u001B[38;5;241;43m=\u001B[39;49m\u001B[43mobserved\u001B[49m\u001B[43m,\u001B[49m\n\u001B[1;32m   9520\u001B[0m \u001B[43m        \u001B[49m\u001B[43msort\u001B[49m\u001B[38;5;241;43m=\u001B[39;49m\u001B[43msort\u001B[49m\u001B[43m,\u001B[49m\n\u001B[1;32m   9521\u001B[0m \u001B[43m    \u001B[49m\u001B[43m)\u001B[49m\n",
      "File \u001B[0;32m~/Desktop/Data-Analyst/RP-Course Recom/env/lib/python3.11/site-packages/pandas/core/reshape/pivot.py:102\u001B[0m, in \u001B[0;36mpivot_table\u001B[0;34m(data, values, index, columns, aggfunc, fill_value, margins, dropna, margins_name, observed, sort)\u001B[0m\n\u001B[1;32m     99\u001B[0m     table \u001B[38;5;241m=\u001B[39m concat(pieces, keys\u001B[38;5;241m=\u001B[39mkeys, axis\u001B[38;5;241m=\u001B[39m\u001B[38;5;241m1\u001B[39m)\n\u001B[1;32m    100\u001B[0m     \u001B[38;5;28;01mreturn\u001B[39;00m table\u001B[38;5;241m.\u001B[39m__finalize__(data, method\u001B[38;5;241m=\u001B[39m\u001B[38;5;124m\"\u001B[39m\u001B[38;5;124mpivot_table\u001B[39m\u001B[38;5;124m\"\u001B[39m)\n\u001B[0;32m--> 102\u001B[0m table \u001B[38;5;241m=\u001B[39m \u001B[43m__internal_pivot_table\u001B[49m\u001B[43m(\u001B[49m\n\u001B[1;32m    103\u001B[0m \u001B[43m    \u001B[49m\u001B[43mdata\u001B[49m\u001B[43m,\u001B[49m\n\u001B[1;32m    104\u001B[0m \u001B[43m    \u001B[49m\u001B[43mvalues\u001B[49m\u001B[43m,\u001B[49m\n\u001B[1;32m    105\u001B[0m \u001B[43m    \u001B[49m\u001B[43mindex\u001B[49m\u001B[43m,\u001B[49m\n\u001B[1;32m    106\u001B[0m \u001B[43m    \u001B[49m\u001B[43mcolumns\u001B[49m\u001B[43m,\u001B[49m\n\u001B[1;32m    107\u001B[0m \u001B[43m    \u001B[49m\u001B[43maggfunc\u001B[49m\u001B[43m,\u001B[49m\n\u001B[1;32m    108\u001B[0m \u001B[43m    \u001B[49m\u001B[43mfill_value\u001B[49m\u001B[43m,\u001B[49m\n\u001B[1;32m    109\u001B[0m \u001B[43m    \u001B[49m\u001B[43mmargins\u001B[49m\u001B[43m,\u001B[49m\n\u001B[1;32m    110\u001B[0m \u001B[43m    \u001B[49m\u001B[43mdropna\u001B[49m\u001B[43m,\u001B[49m\n\u001B[1;32m    111\u001B[0m \u001B[43m    \u001B[49m\u001B[43mmargins_name\u001B[49m\u001B[43m,\u001B[49m\n\u001B[1;32m    112\u001B[0m \u001B[43m    \u001B[49m\u001B[43mobserved\u001B[49m\u001B[43m,\u001B[49m\n\u001B[1;32m    113\u001B[0m \u001B[43m    \u001B[49m\u001B[43msort\u001B[49m\u001B[43m,\u001B[49m\n\u001B[1;32m    114\u001B[0m \u001B[43m\u001B[49m\u001B[43m)\u001B[49m\n\u001B[1;32m    115\u001B[0m \u001B[38;5;28;01mreturn\u001B[39;00m table\u001B[38;5;241m.\u001B[39m__finalize__(data, method\u001B[38;5;241m=\u001B[39m\u001B[38;5;124m\"\u001B[39m\u001B[38;5;124mpivot_table\u001B[39m\u001B[38;5;124m\"\u001B[39m)\n",
      "File \u001B[0;32m~/Desktop/Data-Analyst/RP-Course Recom/env/lib/python3.11/site-packages/pandas/core/reshape/pivot.py:172\u001B[0m, in \u001B[0;36m__internal_pivot_table\u001B[0;34m(data, values, index, columns, aggfunc, fill_value, margins, dropna, margins_name, observed, sort)\u001B[0m\n\u001B[1;32m    169\u001B[0m     values \u001B[38;5;241m=\u001B[39m \u001B[38;5;28mlist\u001B[39m(values)\n\u001B[1;32m    171\u001B[0m observed_bool \u001B[38;5;241m=\u001B[39m \u001B[38;5;28;01mFalse\u001B[39;00m \u001B[38;5;28;01mif\u001B[39;00m observed \u001B[38;5;129;01mis\u001B[39;00m lib\u001B[38;5;241m.\u001B[39mno_default \u001B[38;5;28;01melse\u001B[39;00m observed\n\u001B[0;32m--> 172\u001B[0m grouped \u001B[38;5;241m=\u001B[39m \u001B[43mdata\u001B[49m\u001B[38;5;241;43m.\u001B[39;49m\u001B[43mgroupby\u001B[49m\u001B[43m(\u001B[49m\u001B[43mkeys\u001B[49m\u001B[43m,\u001B[49m\u001B[43m \u001B[49m\u001B[43mobserved\u001B[49m\u001B[38;5;241;43m=\u001B[39;49m\u001B[43mobserved_bool\u001B[49m\u001B[43m,\u001B[49m\u001B[43m \u001B[49m\u001B[43msort\u001B[49m\u001B[38;5;241;43m=\u001B[39;49m\u001B[43msort\u001B[49m\u001B[43m,\u001B[49m\u001B[43m \u001B[49m\u001B[43mdropna\u001B[49m\u001B[38;5;241;43m=\u001B[39;49m\u001B[43mdropna\u001B[49m\u001B[43m)\u001B[49m\n\u001B[1;32m    173\u001B[0m \u001B[38;5;28;01mif\u001B[39;00m observed \u001B[38;5;129;01mis\u001B[39;00m lib\u001B[38;5;241m.\u001B[39mno_default \u001B[38;5;129;01mand\u001B[39;00m \u001B[38;5;28many\u001B[39m(\n\u001B[1;32m    174\u001B[0m     ping\u001B[38;5;241m.\u001B[39m_passed_categorical \u001B[38;5;28;01mfor\u001B[39;00m ping \u001B[38;5;129;01min\u001B[39;00m grouped\u001B[38;5;241m.\u001B[39m_grouper\u001B[38;5;241m.\u001B[39mgroupings\n\u001B[1;32m    175\u001B[0m ):\n\u001B[1;32m    176\u001B[0m     warnings\u001B[38;5;241m.\u001B[39mwarn(\n\u001B[1;32m    177\u001B[0m         \u001B[38;5;124m\"\u001B[39m\u001B[38;5;124mThe default value of observed=False is deprecated and will change \u001B[39m\u001B[38;5;124m\"\u001B[39m\n\u001B[1;32m    178\u001B[0m         \u001B[38;5;124m\"\u001B[39m\u001B[38;5;124mto observed=True in a future version of pandas. Specify \u001B[39m\u001B[38;5;124m\"\u001B[39m\n\u001B[0;32m   (...)\u001B[0m\n\u001B[1;32m    181\u001B[0m         stacklevel\u001B[38;5;241m=\u001B[39mfind_stack_level(),\n\u001B[1;32m    182\u001B[0m     )\n",
      "File \u001B[0;32m~/Desktop/Data-Analyst/RP-Course Recom/env/lib/python3.11/site-packages/pandas/core/frame.py:9183\u001B[0m, in \u001B[0;36mDataFrame.groupby\u001B[0;34m(self, by, axis, level, as_index, sort, group_keys, observed, dropna)\u001B[0m\n\u001B[1;32m   9180\u001B[0m \u001B[38;5;28;01mif\u001B[39;00m level \u001B[38;5;129;01mis\u001B[39;00m \u001B[38;5;28;01mNone\u001B[39;00m \u001B[38;5;129;01mand\u001B[39;00m by \u001B[38;5;129;01mis\u001B[39;00m \u001B[38;5;28;01mNone\u001B[39;00m:\n\u001B[1;32m   9181\u001B[0m     \u001B[38;5;28;01mraise\u001B[39;00m \u001B[38;5;167;01mTypeError\u001B[39;00m(\u001B[38;5;124m\"\u001B[39m\u001B[38;5;124mYou have to supply one of \u001B[39m\u001B[38;5;124m'\u001B[39m\u001B[38;5;124mby\u001B[39m\u001B[38;5;124m'\u001B[39m\u001B[38;5;124m and \u001B[39m\u001B[38;5;124m'\u001B[39m\u001B[38;5;124mlevel\u001B[39m\u001B[38;5;124m'\u001B[39m\u001B[38;5;124m\"\u001B[39m)\n\u001B[0;32m-> 9183\u001B[0m \u001B[38;5;28;01mreturn\u001B[39;00m \u001B[43mDataFrameGroupBy\u001B[49m\u001B[43m(\u001B[49m\n\u001B[1;32m   9184\u001B[0m \u001B[43m    \u001B[49m\u001B[43mobj\u001B[49m\u001B[38;5;241;43m=\u001B[39;49m\u001B[38;5;28;43mself\u001B[39;49m\u001B[43m,\u001B[49m\n\u001B[1;32m   9185\u001B[0m \u001B[43m    \u001B[49m\u001B[43mkeys\u001B[49m\u001B[38;5;241;43m=\u001B[39;49m\u001B[43mby\u001B[49m\u001B[43m,\u001B[49m\n\u001B[1;32m   9186\u001B[0m \u001B[43m    \u001B[49m\u001B[43maxis\u001B[49m\u001B[38;5;241;43m=\u001B[39;49m\u001B[43maxis\u001B[49m\u001B[43m,\u001B[49m\n\u001B[1;32m   9187\u001B[0m \u001B[43m    \u001B[49m\u001B[43mlevel\u001B[49m\u001B[38;5;241;43m=\u001B[39;49m\u001B[43mlevel\u001B[49m\u001B[43m,\u001B[49m\n\u001B[1;32m   9188\u001B[0m \u001B[43m    \u001B[49m\u001B[43mas_index\u001B[49m\u001B[38;5;241;43m=\u001B[39;49m\u001B[43mas_index\u001B[49m\u001B[43m,\u001B[49m\n\u001B[1;32m   9189\u001B[0m \u001B[43m    \u001B[49m\u001B[43msort\u001B[49m\u001B[38;5;241;43m=\u001B[39;49m\u001B[43msort\u001B[49m\u001B[43m,\u001B[49m\n\u001B[1;32m   9190\u001B[0m \u001B[43m    \u001B[49m\u001B[43mgroup_keys\u001B[49m\u001B[38;5;241;43m=\u001B[39;49m\u001B[43mgroup_keys\u001B[49m\u001B[43m,\u001B[49m\n\u001B[1;32m   9191\u001B[0m \u001B[43m    \u001B[49m\u001B[43mobserved\u001B[49m\u001B[38;5;241;43m=\u001B[39;49m\u001B[43mobserved\u001B[49m\u001B[43m,\u001B[49m\n\u001B[1;32m   9192\u001B[0m \u001B[43m    \u001B[49m\u001B[43mdropna\u001B[49m\u001B[38;5;241;43m=\u001B[39;49m\u001B[43mdropna\u001B[49m\u001B[43m,\u001B[49m\n\u001B[1;32m   9193\u001B[0m \u001B[43m\u001B[49m\u001B[43m)\u001B[49m\n",
      "File \u001B[0;32m~/Desktop/Data-Analyst/RP-Course Recom/env/lib/python3.11/site-packages/pandas/core/groupby/groupby.py:1329\u001B[0m, in \u001B[0;36mGroupBy.__init__\u001B[0;34m(self, obj, keys, axis, level, grouper, exclusions, selection, as_index, sort, group_keys, observed, dropna)\u001B[0m\n\u001B[1;32m   1326\u001B[0m \u001B[38;5;28mself\u001B[39m\u001B[38;5;241m.\u001B[39mdropna \u001B[38;5;241m=\u001B[39m dropna\n\u001B[1;32m   1328\u001B[0m \u001B[38;5;28;01mif\u001B[39;00m grouper \u001B[38;5;129;01mis\u001B[39;00m \u001B[38;5;28;01mNone\u001B[39;00m:\n\u001B[0;32m-> 1329\u001B[0m     grouper, exclusions, obj \u001B[38;5;241m=\u001B[39m \u001B[43mget_grouper\u001B[49m\u001B[43m(\u001B[49m\n\u001B[1;32m   1330\u001B[0m \u001B[43m        \u001B[49m\u001B[43mobj\u001B[49m\u001B[43m,\u001B[49m\n\u001B[1;32m   1331\u001B[0m \u001B[43m        \u001B[49m\u001B[43mkeys\u001B[49m\u001B[43m,\u001B[49m\n\u001B[1;32m   1332\u001B[0m \u001B[43m        \u001B[49m\u001B[43maxis\u001B[49m\u001B[38;5;241;43m=\u001B[39;49m\u001B[43maxis\u001B[49m\u001B[43m,\u001B[49m\n\u001B[1;32m   1333\u001B[0m \u001B[43m        \u001B[49m\u001B[43mlevel\u001B[49m\u001B[38;5;241;43m=\u001B[39;49m\u001B[43mlevel\u001B[49m\u001B[43m,\u001B[49m\n\u001B[1;32m   1334\u001B[0m \u001B[43m        \u001B[49m\u001B[43msort\u001B[49m\u001B[38;5;241;43m=\u001B[39;49m\u001B[43msort\u001B[49m\u001B[43m,\u001B[49m\n\u001B[1;32m   1335\u001B[0m \u001B[43m        \u001B[49m\u001B[43mobserved\u001B[49m\u001B[38;5;241;43m=\u001B[39;49m\u001B[38;5;28;43;01mFalse\u001B[39;49;00m\u001B[43m \u001B[49m\u001B[38;5;28;43;01mif\u001B[39;49;00m\u001B[43m \u001B[49m\u001B[43mobserved\u001B[49m\u001B[43m \u001B[49m\u001B[38;5;129;43;01mis\u001B[39;49;00m\u001B[43m \u001B[49m\u001B[43mlib\u001B[49m\u001B[38;5;241;43m.\u001B[39;49m\u001B[43mno_default\u001B[49m\u001B[43m \u001B[49m\u001B[38;5;28;43;01melse\u001B[39;49;00m\u001B[43m \u001B[49m\u001B[43mobserved\u001B[49m\u001B[43m,\u001B[49m\n\u001B[1;32m   1336\u001B[0m \u001B[43m        \u001B[49m\u001B[43mdropna\u001B[49m\u001B[38;5;241;43m=\u001B[39;49m\u001B[38;5;28;43mself\u001B[39;49m\u001B[38;5;241;43m.\u001B[39;49m\u001B[43mdropna\u001B[49m\u001B[43m,\u001B[49m\n\u001B[1;32m   1337\u001B[0m \u001B[43m    \u001B[49m\u001B[43m)\u001B[49m\n\u001B[1;32m   1339\u001B[0m \u001B[38;5;28;01mif\u001B[39;00m observed \u001B[38;5;129;01mis\u001B[39;00m lib\u001B[38;5;241m.\u001B[39mno_default:\n\u001B[1;32m   1340\u001B[0m     \u001B[38;5;28;01mif\u001B[39;00m \u001B[38;5;28many\u001B[39m(ping\u001B[38;5;241m.\u001B[39m_passed_categorical \u001B[38;5;28;01mfor\u001B[39;00m ping \u001B[38;5;129;01min\u001B[39;00m grouper\u001B[38;5;241m.\u001B[39mgroupings):\n",
      "File \u001B[0;32m~/Desktop/Data-Analyst/RP-Course Recom/env/lib/python3.11/site-packages/pandas/core/groupby/grouper.py:1043\u001B[0m, in \u001B[0;36mget_grouper\u001B[0;34m(obj, key, axis, level, sort, observed, validate, dropna)\u001B[0m\n\u001B[1;32m   1041\u001B[0m         in_axis, level, gpr \u001B[38;5;241m=\u001B[39m \u001B[38;5;28;01mFalse\u001B[39;00m, gpr, \u001B[38;5;28;01mNone\u001B[39;00m\n\u001B[1;32m   1042\u001B[0m     \u001B[38;5;28;01melse\u001B[39;00m:\n\u001B[0;32m-> 1043\u001B[0m         \u001B[38;5;28;01mraise\u001B[39;00m \u001B[38;5;167;01mKeyError\u001B[39;00m(gpr)\n\u001B[1;32m   1044\u001B[0m \u001B[38;5;28;01melif\u001B[39;00m \u001B[38;5;28misinstance\u001B[39m(gpr, Grouper) \u001B[38;5;129;01mand\u001B[39;00m gpr\u001B[38;5;241m.\u001B[39mkey \u001B[38;5;129;01mis\u001B[39;00m \u001B[38;5;129;01mnot\u001B[39;00m \u001B[38;5;28;01mNone\u001B[39;00m:\n\u001B[1;32m   1045\u001B[0m     \u001B[38;5;66;03m# Add key to exclusions\u001B[39;00m\n\u001B[1;32m   1046\u001B[0m     exclusions\u001B[38;5;241m.\u001B[39madd(gpr\u001B[38;5;241m.\u001B[39mkey)\n",
      "\u001B[0;31mKeyError\u001B[0m: 'encoded email'"
     ]
    }
   ],
   "source": [
    "pivot_df = df.pivot_table(index='encoded email', columns='term_code', values=['course_code', 'grade'], aggfunc=lambda x: ' '.join(str(v) for v in x))"
   ]
  },
  {
   "cell_type": "code",
   "execution_count": null,
   "metadata": {
    "colab": {
     "base_uri": "https://localhost:8080/",
     "height": 990
    },
    "id": "iSQ3KDCIb1DU",
    "outputId": "58fa112c-fd47-414b-ebcf-e4f9c390a79f"
   },
   "outputs": [],
   "source": [
    "pivot_df.fillna(0,inplace=True)\n",
    "pivot_df"
   ]
  },
  {
   "cell_type": "code",
   "execution_count": null,
   "metadata": {
    "id": "MVfLqJRscHGw"
   },
   "outputs": [],
   "source": [
    "def pad(l):\n",
    "  temp = ['0']*(4-len(l))\n",
    "  return temp+l\n",
    "\n",
    "d = {'student_id':[],'term_basket':[],'grade_basket':[]}\n",
    "max_length = 4\n",
    "for student in range(pivot_df.shape[0]):\n",
    "  if all([len(x.split(' ')) < 5 for x in pivot_df.iloc[student][0:9] if isinstance(x, str)]):\n",
    "    d['student_id'].append(pivot_df.iloc[student].name)\n",
    "    d['term_basket'].append([pad(x.split(' ')) if isinstance(x, str) else ['0','0','0','0'] for x in pivot_df.iloc[student][0:9] ])\n",
    "    d['grade_basket'].append([pad(x.split(' ')) if isinstance(x, str) else ['0','0','0','0'] for x in pivot_df.iloc[student][9:] ])\n",
    "student_basket = pd.DataFrame(d)\n"
   ]
  },
  {
   "cell_type": "code",
   "execution_count": null,
   "metadata": {
    "colab": {
     "base_uri": "https://localhost:8080/",
     "height": 424
    },
    "id": "oytqm2Rhc1Xb",
    "outputId": "de81c855-590f-4114-e935-716329ee8222"
   },
   "outputs": [],
   "source": [
    "student_basket"
   ]
  },
  {
   "cell_type": "code",
   "execution_count": null,
   "metadata": {
    "id": "hKNXdGGej7Mq"
   },
   "outputs": [],
   "source": [
    "course_list =['MA1001','MA1002','CS1001','HS1001', 'MA1003', 'MA1004', 'CS1002','HS1002']\n",
    "Freq_mat = [[ 0 for x in range(len(course_list))] for x in range(len(course_list))]"
   ]
  },
  {
   "cell_type": "code",
   "execution_count": null,
   "metadata": {
    "colab": {
     "base_uri": "https://localhost:8080/"
    },
    "id": "Yf47zXNpsrh6",
    "outputId": "6182bd08-2e36-43c9-bca1-058fe351f31a"
   },
   "outputs": [],
   "source": [
    "[1 if set(['HS1002','MA1003'])<=set(x) else 0 for x in student_basket.iloc[0][1]]\n",
    "# student_basket.iloc[0][1]\n"
   ]
  },
  {
   "cell_type": "code",
   "execution_count": null,
   "metadata": {
    "id": "guUJRmGek0Np"
   },
   "outputs": [],
   "source": [
    "# Assuming Freq_mat and course_list are initialized appropriately\n",
    "for i in range(len(course_list)):\n",
    "    for j in range(len(course_list)):\n",
    "        for stu in range(student_basket.shape[0]):\n",
    "            if course_list[i] != course_list[j]:\n",
    "                Freq_mat[i][j] += sum([1 if set([course_list[i], course_list[j]]).issubset(set(x)) else 0 for x in student_basket.iloc[stu][1]])\n",
    "\n",
    "        # print(student_basket.iloc[stu][0],course_list[i],course_list[j],[1 if set([course_list[i],course_list[j]])<=set(x) else 0 for x in student_basket.iloc[stu][1]])"
   ]
  },
  {
   "cell_type": "code",
   "execution_count": null,
   "metadata": {
    "id": "BFa3c_YoH2op"
   },
   "outputs": [],
   "source": [
    "course_name_list =['Math 1','Stats 1','CT','Eng 1', 'Math 2', 'Stats 2', 'Python','Eng 2']\n",
    "Freq_mat = pd.DataFrame(Freq_mat, index=course_name_list, columns=course_name_list)"
   ]
  },
  {
   "cell_type": "code",
   "execution_count": null,
   "metadata": {
    "colab": {
     "base_uri": "https://localhost:8080/",
     "height": 300
    },
    "id": "vPnTpS5lLl3I",
    "outputId": "0c592e4c-a373-426b-c301-1561162bf648"
   },
   "outputs": [],
   "source": [
    "Freq_mat"
   ]
  },
  {
   "cell_type": "code",
   "execution_count": null,
   "metadata": {
    "colab": {
     "base_uri": "https://localhost:8080/",
     "height": 424
    },
    "id": "tbeKAVdkNhME",
    "outputId": "93236f46-4640-4448-ea55-c83b77ee8e58"
   },
   "outputs": [],
   "source": [
    "student_basket"
   ]
  },
  {
   "cell_type": "markdown",
   "metadata": {
    "id": "ghDxy5MwFrIc"
   },
   "source": [
    "##REPLACCING COURSES WITH VECTORS IN STUDENT BASKET"
   ]
  },
  {
   "cell_type": "code",
   "execution_count": null,
   "metadata": {
    "id": "4Y5gWxkyLKL-"
   },
   "outputs": [],
   "source": [
    "course_dict ={\n",
    "    'HS1001':np.array([1,0,0,0,0,0,0,0]),\n",
    "    'CS1001':np.array([0,1,0,0,0,0,0,0]),\n",
    "    'MA1001':np.array([0,0,1,0,0,0,0,0]),\n",
    "    'MA1002':np.array([0,0,0,1,0,0,0,0]),\n",
    "    'HS1002':np.array([0,0,0,0,1,0,0,0]),\n",
    "    'CS1002':np.array([0,0,0,0,0,1,0,0]),\n",
    "    'MA1003':np.array([0,0,0,0,0,0,1,0]),\n",
    "    'MA1004':np.array([0,0,0,0,0,0,0,1])\n",
    "}"
   ]
  },
  {
   "cell_type": "code",
   "execution_count": null,
   "metadata": {
    "colab": {
     "base_uri": "https://localhost:8080/",
     "height": 424
    },
    "id": "w1HIbtfcAD4z",
    "outputId": "fc55cb84-488e-4111-8c6f-8c53e37027d9"
   },
   "outputs": [],
   "source": [
    "student_basket"
   ]
  },
  {
   "cell_type": "code",
   "execution_count": null,
   "metadata": {
    "id": "pI3khN28FzUD"
   },
   "outputs": [],
   "source": [
    "for basket in range(len(student_basket['term_basket'])):\n",
    "  for term in range(len(student_basket['term_basket'][basket])):\n",
    "    for course in range(len(student_basket['term_basket'][basket][term])):\n",
    "      if student_basket['term_basket'][basket][term][course] == '0' :\n",
    "        student_basket['term_basket'][basket][term][course] = np.array([0,0,0,0,0,0,0,0])\n",
    "      else:\n",
    "        # print(model1.wv.get_vector(student_basket['term_basket'][basket][term][course]))\n",
    "        student_basket['term_basket'][basket][term][course] = course_dict[student_basket['term_basket'][basket][term][course]]\n"
   ]
  },
  {
   "cell_type": "code",
   "execution_count": null,
   "metadata": {
    "colab": {
     "base_uri": "https://localhost:8080/",
     "height": 424
    },
    "id": "WcwLVboEF2bx",
    "outputId": "42262383-f092-40cc-b12a-5825ddc6dc6c"
   },
   "outputs": [],
   "source": [
    "student_basket"
   ]
  },
  {
   "cell_type": "markdown",
   "metadata": {
    "id": "bUklGAYelQrK"
   },
   "source": [
    "##Implementation Of CourseDream Model\n",
    "\n",
    "* Pooling of courses in a term basket\n",
    "\n"
   ]
  },
  {
   "cell_type": "code",
   "execution_count": null,
   "metadata": {
    "id": "3_l2cb7GleWz"
   },
   "outputs": [],
   "source": [
    "data1 = student_basket.copy()"
   ]
  },
  {
   "cell_type": "code",
   "execution_count": null,
   "metadata": {
    "id": "H3-cjUcYyIVx"
   },
   "outputs": [],
   "source": [
    "d1={'ip_seq':[],'op_seq':[]}\n",
    "seq_len=1\n",
    "for basket in range(len(data1['term_basket'])):\n",
    "  for i in range(len(data1['term_basket'][basket])-seq_len):\n",
    "    a = all(np.all(vector == 0) for vector in data1['term_basket'][basket][i])\n",
    "    b = all(np.all(vector == 0) for vector in data1['term_basket'][basket][i+seq_len])\n",
    "    if  not (a or b) :\n",
    "      d1['ip_seq'].append(np.sum(data1['term_basket'][basket][i],axis=0))\n",
    "      d1['op_seq'].append(np.sum(data1['term_basket'][basket][i+seq_len],axis=0))"
   ]
  },
  {
   "cell_type": "code",
   "execution_count": null,
   "metadata": {
    "id": "mN1ITA0gibga"
   },
   "outputs": [],
   "source": [
    "d2={'ip_seq':[],'op_seq':[]}\n",
    "seq_len=1\n",
    "for basket in range(len(data1['term_basket'])):\n",
    "  for i in range(len(data1['term_basket'][basket])-seq_len):\n",
    "    a = all(np.all(vector == 0) for vector in data1['term_basket'][basket][i])\n",
    "    b = all(np.all(vector == 0) for vector in data1['term_basket'][basket][i+seq_len])\n",
    "    if  not (a or b) :\n",
    "      temp = [1 for x in data1['grade_basket'][basket][i] if int(x)>0]\n",
    "      if sum(temp)==0:\n",
    "        continue\n",
    "      d2['ip_seq'].append(np.sum(data1['term_basket'][basket][i],axis=0))\n",
    "      d2['op_seq'].append(np.sum(np.array(data1['grade_basket'][basket][i],dtype=np.int32))/(sum(temp)*10))"
   ]
  },
  {
   "cell_type": "code",
   "execution_count": null,
   "metadata": {
    "colab": {
     "base_uri": "https://localhost:8080/",
     "height": 424
    },
    "id": "uvdojPLwNvS9",
    "outputId": "a1ebceb6-551b-4690-c1fd-25fcf47114ad"
   },
   "outputs": [],
   "source": [
    "pd.DataFrame(d1)"
   ]
  },
  {
   "cell_type": "code",
   "execution_count": null,
   "metadata": {
    "colab": {
     "base_uri": "https://localhost:8080/"
    },
    "id": "wfSDuwXxjTZX",
    "outputId": "14a165d2-91bd-4be8-81f3-41c6737c4b45"
   },
   "outputs": [],
   "source": [
    "from sklearn.preprocessing import MinMaxScaler\n",
    "scaler = MinMaxScaler()\n",
    "\n",
    "# Fit and transform the features and target variable\n",
    "y_scaled = scaler.fit_transform(pd.DataFrame(d2)['op_seq'].to_frame())\n",
    "pd.DataFrame(d2)['op_seq'] = y_scaled\n",
    "\n",
    "print(\"Scaled target variable (op_seq):\\n\", y_scaled)"
   ]
  },
  {
   "cell_type": "code",
   "execution_count": null,
   "metadata": {
    "colab": {
     "base_uri": "https://localhost:8080/"
    },
    "id": "OT3SazsPz9KJ",
    "outputId": "4b7e6ded-888c-4977-ad7c-209a441d1eda"
   },
   "outputs": [],
   "source": [
    "\n",
    "### DATA FOR COURSE RECOMMENDATION\n",
    "X1,y1 = np.array(pd.DataFrame(d1)['ip_seq'].to_list()),np.array(pd.DataFrame(d1)['op_seq'].to_list())\n",
    "X1 = X1.reshape(X1.shape[0],1, X1.shape[1])\n",
    "y1 = y1.reshape(y1.shape[0],y1.shape[1])\n",
    "\n",
    "### DATA FOR GRADE PREDICTION\n",
    "X2,y2 = np.array(pd.DataFrame(d2)['ip_seq'].to_list()),np.array(pd.DataFrame(d2)['op_seq'].to_list())\n",
    "X2 = X2.reshape(X2.shape[0],1, X2.shape[1])\n",
    "y2 = y2.reshape(y2.shape[0],1)\n",
    "\n",
    "print(X1.shape,y1.shape)\n",
    "print(X2.shape,y2.shape)\n",
    "\n"
   ]
  },
  {
   "cell_type": "code",
   "execution_count": null,
   "metadata": {
    "id": "A06z7mQO1dV8"
   },
   "outputs": [],
   "source": [
    "from keras import Model\n",
    "from keras.layers import Layer\n",
    "from tensorflow.keras.optimizers import Adam\n",
    "import keras.backend as K\n",
    "import tensorflow as tf\n",
    "from keras.layers import Input, Dense, SimpleRNN , LSTM,Dropout , Embedding , Masking\n",
    "from sklearn.preprocessing import MinMaxScaler\n",
    "from sklearn.model_selection import train_test_split\n",
    "from keras.models import Sequential\n",
    "from keras.metrics import mean_squared_error"
   ]
  },
  {
   "cell_type": "code",
   "execution_count": null,
   "metadata": {
    "id": "QuHFB1J8C9yE"
   },
   "outputs": [],
   "source": [
    "# Add attention layer to the deep learning network\n",
    "class attention(Layer):\n",
    "    def __init__(self,**kwargs):\n",
    "        super(attention,self).__init__(**kwargs)\n",
    "\n",
    "    def build(self,input_shape):\n",
    "        self.W=self.add_weight(name='attention_weight', shape=(input_shape[-1],1),\n",
    "                               initializer='random_normal', trainable=True)\n",
    "        self.b=self.add_weight(name='attention_bias', shape=(input_shape[1],1),\n",
    "                               initializer='zeros', trainable=True)\n",
    "        super(attention, self).build(input_shape)\n",
    "\n",
    "    def call(self,x):\n",
    "        # Alignment scores. Pass them through tanh function\n",
    "        e = K.tanh(K.dot(x,self.W)+self.b)\n",
    "        # Remove dimension of size 1\n",
    "        e = K.squeeze(e, axis=-1)\n",
    "        # Compute the weights\n",
    "        alpha = K.softmax(e)\n",
    "        # Reshape to tensorFlow format\n",
    "        alpha = K.expand_dims(alpha, axis=-1)\n",
    "        # Compute the context vector\n",
    "        context = x * alpha\n",
    "        context = K.sum(context, axis=1)\n",
    "        return context"
   ]
  },
  {
   "cell_type": "code",
   "execution_count": null,
   "metadata": {
    "colab": {
     "base_uri": "https://localhost:8080/"
    },
    "id": "eMwlNbaJ0llz",
    "outputId": "ad30bd3b-d99d-46a9-932e-9b4e5fc335a1"
   },
   "outputs": [],
   "source": [
    "\n",
    "## parameters for course recommendation\n",
    "model_name1 = 'COURSE_RECOMMEDNDATION'\n",
    "X1_train, X1_test, y1_train, y1_test = train_test_split(X1, y1, test_size=0.2, random_state=42)\n",
    "input_shape1 = (1,X1_train.shape[2])\n",
    "hidden_units1 = 32\n",
    "dense_units1 = 8\n",
    "loss1 = 'mse'\n",
    "op_activation1 = 'softmax'\n",
    "\n",
    "## parameters for grade prediction\n",
    "model_name2 = 'GRADE_PREDICTION'\n",
    "X2_train, X2_test, y2_train, y2_test = train_test_split(X2, y2, test_size=0.2, random_state=42)\n",
    "input_shape2 = (1,X2_train.shape[2])\n",
    "hidden_units2 = 32\n",
    "dense_units2 = 1\n",
    "loss2 = 'mse'\n",
    "op_activation2 = 'relu'\n",
    "\n",
    "epochs = 100\n",
    "dropout=0.2\n",
    "\n",
    "def create_RNN_with_attention(hidden_units, dense_units, input_shape,loss,dropout_rate,model_name,op_activation):\n",
    "    optimizer = Adam(learning_rate=0.1)\n",
    "    model = Sequential([\n",
    "        LSTM(hidden_units, input_shape=input_shape, return_sequences=True),\n",
    "        Dropout(dropout_rate),\n",
    "        LSTM(hidden_units//2, input_shape=input_shape, return_sequences=True),\n",
    "        Dropout(dropout_rate),\n",
    "        attention(),  # Attention layer\n",
    "        Dense(dense_units, trainable=True, activation=op_activation)\n",
    "    ])\n",
    "    model._name = model_name\n",
    "    model.compile(loss= loss, optimizer=optimizer)\n",
    "    return model\n",
    "\n",
    "model_attention1 = create_RNN_with_attention(hidden_units=hidden_units1, dense_units=dense_units1,\n",
    "                                  input_shape=input_shape1,loss=loss1,dropout_rate=dropout,\n",
    "                                             model_name=model_name1,op_activation=op_activation1)\n",
    "model_attention1.summary()\n",
    "\n",
    "\n",
    "model_attention2 = create_RNN_with_attention(hidden_units=hidden_units2, dense_units=dense_units2,\n",
    "                                  input_shape=input_shape2,loss=loss2,dropout_rate=dropout,\n",
    "                                             model_name=model_name2,op_activation=op_activation2)\n",
    "model_attention2.summary()\n"
   ]
  },
  {
   "cell_type": "code",
   "execution_count": null,
   "metadata": {
    "colab": {
     "base_uri": "https://localhost:8080/",
     "height": 489
    },
    "id": "4HU897q9nREx",
    "outputId": "aec54075-7d26-4c46-b483-8e848148dcaf"
   },
   "outputs": [],
   "source": [
    "from sklearn.linear_model import LinearRegression\n",
    "from sklearn.metrics import mean_squared_error\n",
    "\n",
    "model3 = LinearRegression()\n",
    "model3.fit(np.sqrt(np.sqrt(X2_train.reshape(-1,8))), np.sqrt(np.sqrt(y2_train)))\n",
    "\n",
    "# Making predictions on the test set\n",
    "y2_pred = model3.predict(np.sqrt(np.sqrt(X2_test.reshape(-1,8))))\n",
    "\n",
    "# Evaluating the model\n",
    "mse = mean_squared_error(np.sqrt(np.sqrt(y2_test)), y2_pred)\n",
    "print(\"Mean Squared Error:\", mse)\n",
    "\n",
    "\n",
    "plt.scatter(range(len(y2_test[:100])), np.square(np.square(y2_pred[:100])), color='blue', label='op_seq_pred')\n",
    "plt.scatter(range(len(y2_test[:100])), y2_test[:100], color='red', label='op_seq_true')\n",
    "plt.xlabel('DATA POINT')\n",
    "plt.ylabel('Value')\n",
    "plt.title('op_seq_pred vs op_seq_true')\n",
    "plt.legend()\n",
    "plt.show()"
   ]
  },
  {
   "cell_type": "code",
   "execution_count": null,
   "metadata": {
    "colab": {
     "base_uri": "https://localhost:8080/"
    },
    "id": "UyXFIG0R1mB8",
    "outputId": "2d2e7176-20f6-4bd6-da00-eb2e39fc81a3"
   },
   "outputs": [],
   "source": [
    "# Evalute model course recommendation\n",
    "model_attention1.fit(X1_train, y1_train, epochs=epochs, batch_size=516)\n",
    "train_mse1 = model_attention1.evaluate(X1_train, y1_train)\n",
    "test_mse1 = model_attention1.evaluate(X1_test, y1_test)\n",
    "\n",
    "# Evalute model grade prediction\n",
    "model_attention2.fit(X2_train, y2_train, epochs=epochs, batch_size=64)\n",
    "train_mse2 = model_attention2.evaluate(X2_train, y2_train)\n",
    "test_mse2 = model_attention2.evaluate(X2_test, y2_test)\n",
    "\n",
    "\n",
    "# Print error model 1\n",
    "print(\"Train set MSE = \", train_mse1)\n",
    "print(\"Test set MSE = \", test_mse1)\n",
    "\n",
    "# Print error model 2\n",
    "print(\"Train set MSE = \", train_mse2)\n",
    "print(\"Test set MSE = \", test_mse2)"
   ]
  },
  {
   "cell_type": "code",
   "execution_count": null,
   "metadata": {
    "id": "JUnemD_V3M9z"
   },
   "outputs": [],
   "source": [
    "print([1 if x>=0.1 else 0 for x in model_attention1.predict(X1_test[1].reshape(1,1,-1)).flatten()])\n",
    "print(model_attention2.predict(X1_test[1].reshape(1,1,-1)).flatten())"
   ]
  },
  {
   "cell_type": "code",
   "execution_count": null,
   "metadata": {
    "id": "v3XKHAJCRJyS"
   },
   "outputs": [],
   "source": [
    "def convert_course(term):\n",
    "  course_list =['HS1001','CS1001','MA1001','MA1002','HS1002','CS1002','MA1003','MA1004']\n",
    "  course_bucket = []\n",
    "  for i in range(len(term)):\n",
    "    if term[i]==1:\n",
    "      course_bucket.append(course_list[i])\n",
    "  return course_bucket"
   ]
  },
  {
   "cell_type": "code",
   "execution_count": null,
   "metadata": {
    "id": "FjCdMmnPUlGS"
   },
   "outputs": [],
   "source": [
    "output1 = pd.DataFrame(columns=['ip_seq', 'op_seq_pred','op_seq_true'])\n",
    "for i in range(len(X1_test[:100])):\n",
    "    d = {'ip_seq': [], 'op_seq_pred': [],'op_seq_true':[]}\n",
    "    d['ip_seq'].append(convert_course(X1_test[i].flatten()))\n",
    "    d['op_seq_pred'].append(convert_course([1 if x>= 0.1 else 0 for x in model_attention1.predict(X1_test[i].reshape(1,1,-1)).flatten()]))\n",
    "    d['op_seq_true'].append(convert_course(y1_test[i].flatten()))\n",
    "    output1 = pd.concat([output1,pd.DataFrame(d)],ignore_index=True)"
   ]
  },
  {
   "cell_type": "code",
   "execution_count": null,
   "metadata": {
    "id": "e4rjSRVXOukz"
   },
   "outputs": [],
   "source": [
    "output1"
   ]
  },
  {
   "cell_type": "code",
   "execution_count": null,
   "metadata": {
    "id": "q00tf1X9XdII"
   },
   "outputs": [],
   "source": [
    "import pandas as pd\n",
    "\n",
    "# Define a dictionary mapping original course codes to replacements\n",
    "code_replacements = {\n",
    "    'HS1001': 'course_A',\n",
    "    'CS1001': 'course_B',\n",
    "    'MA1001': 'course_C',\n",
    "    'MA1002': 'course_D',\n",
    "    'HS1002': 'course_E',\n",
    "    'CS1002': 'course_F',\n",
    "    'MA1003': 'course_G',\n",
    "    'MA1004': 'course_H'\n",
    "}\n",
    "\n",
    "# Function to replace course codes in a list\n",
    "def replace_codes(course_list):\n",
    "    return [code_replacements[code] for code in course_list]\n",
    "\n",
    "# Apply the replace_codes function to each element of the DataFrame\n",
    "output1.applymap(lambda x: replace_codes(x) if isinstance(x, list) else x)"
   ]
  },
  {
   "cell_type": "code",
   "execution_count": null,
   "metadata": {
    "id": "jqt6zOCL7_XE"
   },
   "outputs": [],
   "source": [
    "output2 = pd.DataFrame(columns=['ip_seq', 'op_seq_pred','op_seq_true'])\n",
    "for i in range(len(X2_test[:100])):\n",
    "    d = {'ip_seq': [], 'op_seq_pred': [],'op_seq_true':[]}\n",
    "    d['ip_seq'].append(convert_course(X2_test[i].flatten()))\n",
    "    d['op_seq_pred'].append(model_attention2.predict(X2_test[i].reshape(1,1,-1)).flatten())\n",
    "    d['op_seq_true'].append(y2_test[i])\n",
    "    output2 = pd.concat([output2,pd.DataFrame(d)],ignore_index=True)"
   ]
  },
  {
   "cell_type": "code",
   "execution_count": null,
   "metadata": {
    "id": "FHC_70tx8LRf"
   },
   "outputs": [],
   "source": [
    "output2"
   ]
  },
  {
   "cell_type": "code",
   "execution_count": null,
   "metadata": {
    "id": "QQdniJT3kpEl"
   },
   "outputs": [],
   "source": [
    "plt.scatter(range(len(X2_test[:100])), output2['op_seq_pred'], color='blue', label='op_seq_pred')\n",
    "plt.scatter(range(len(X2_test[:100])), output2[\"op_seq_true\"], color='red', label='op_seq_true')\n",
    "plt.xlabel('DATA POINT')\n",
    "plt.ylabel('Value')\n",
    "plt.title('op_seq_pred vs op_seq_true')\n",
    "plt.legend()\n",
    "plt.show()"
   ]
  },
  {
   "cell_type": "code",
   "execution_count": null,
   "metadata": {
    "id": "HOvxjHs83_EO"
   },
   "outputs": [],
   "source": [
    "def get_course(term):\n",
    "  return np.sum(np.array([course_dict[x] for x in term]),axis=0)\n",
    "\n",
    "\n",
    "convert_course([1 if x>= 0.1 else 0 for x in model_attention1.predict(get_course(['CS1001','MA1001','MA1002','HS1001']).reshape(1,1,-1)).flatten()])"
   ]
  },
  {
   "cell_type": "code",
   "execution_count": null,
   "metadata": {
    "id": "buGWCnsCWIvS"
   },
   "outputs": [],
   "source": [
    "def convert_course_to_array(term):\n",
    "  temp = []\n",
    "  for course in term:\n",
    "    temp.append(course_dict[course])\n",
    "  return np.sum(np.array(temp),axis=0)"
   ]
  },
  {
   "cell_type": "code",
   "execution_count": null,
   "metadata": {
    "id": "O0BM4uKoHF1U"
   },
   "outputs": [],
   "source": [
    "output3 = pd.DataFrame(columns=['ip_seq', 'op_seq_pred'])\n",
    "for op in output1['op_seq_pred']:\n",
    "  d = {'ip_seq': [], 'op_seq_pred': []}\n",
    "  d['ip_seq'].append(op)\n",
    "  d['op_seq_pred'].append(model_attention2.predict(convert_course_to_array(op).reshape(1,1,-1)).flatten())\n",
    "  output3 = pd.concat([output3,pd.DataFrame(d)],ignore_index=True)\n"
   ]
  },
  {
   "cell_type": "code",
   "execution_count": null,
   "metadata": {
    "id": "uhTkxKY5VAlw"
   },
   "outputs": [],
   "source": [
    "output3"
   ]
  },
  {
   "cell_type": "code",
   "execution_count": null,
   "metadata": {
    "id": "Xusz9z7LVd0A"
   },
   "outputs": [],
   "source": [
    "def get_course(term):\n",
    "  return np.sum(np.array([course_dict[x] for x in term]),axis=0)\n",
    "\n",
    "\n",
    "convert_course([1 if x>= 0.1 else 0 for x in model_attention1.predict(get_course(['MA1004','CS1001']).reshape(1,1,-1)).flatten()])\n"
   ]
  },
  {
   "cell_type": "code",
   "execution_count": null,
   "metadata": {
    "id": "HAC4uXpkpjAM"
   },
   "outputs": [],
   "source": []
  }
 ],
 "metadata": {
  "colab": {
   "provenance": []
  },
  "kernelspec": {
   "display_name": "Python 3 (ipykernel)",
   "language": "python",
   "name": "python3"
  },
  "language_info": {
   "codemirror_mode": {
    "name": "ipython",
    "version": 3
   },
   "file_extension": ".py",
   "mimetype": "text/x-python",
   "name": "python",
   "nbconvert_exporter": "python",
   "pygments_lexer": "ipython3",
   "version": "3.11.1"
  }
 },
 "nbformat": 4,
 "nbformat_minor": 0
}
